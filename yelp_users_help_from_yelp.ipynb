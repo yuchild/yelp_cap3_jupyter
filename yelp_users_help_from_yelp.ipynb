{
 "cells": [
  {
   "cell_type": "code",
   "execution_count": 1,
   "metadata": {},
   "outputs": [],
   "source": [
    "import pandas as pd\n",
    "import numpy as np\n",
    "from sklearn.model_selection import train_test_split\n",
    "import matplotlib.pyplot as plt\n",
    "plt.rcParams.update({'font.size':20})\n",
    "import cv2\n",
    "\n",
    "import tensorflow as tf\n",
    "from tensorflow.keras.preprocessing import image\n",
    "from scipy.sparse.linalg import svds\n",
    "\n",
    "from surprise import (SVD\n",
    "                      , SVDpp\n",
    "                      , SlopeOne\n",
    "                      , NMF\n",
    "                      , NormalPredictor\n",
    "                      , KNNBaseline\n",
    "                      , KNNBasic\n",
    "                      , KNNWithMeans\n",
    "                      , KNNWithZScore\n",
    "                      , BaselineOnly\n",
    "                      , CoClustering)\n",
    "from surprise import NormalPredictor\n",
    "from surprise import Dataset\n",
    "from surprise import Reader\n",
    "from surprise.model_selection.split import train_test_split\n",
    "from surprise.model_selection.validation import cross_validate\n",
    "from surprise import accuracy"
   ]
  },
  {
   "cell_type": "code",
   "execution_count": 2,
   "metadata": {},
   "outputs": [],
   "source": [
    "%load_ext autoreload\n",
    "%autoreload 2"
   ]
  },
  {
   "cell_type": "code",
   "execution_count": 3,
   "metadata": {},
   "outputs": [],
   "source": [
    "from src.models import (load_data\n",
    "                        , data_summary\n",
    "                        , combine_tables\n",
    "                        , collab_mat\n",
    "                        , svd_mat\n",
    "                        , svd_model\n",
    "                        , surprise_bench\n",
    "                        , top_biz_pred\n",
    "                        , NMF_Mat\n",
    "                        , NN_Model\n",
    "                        , NN_Results_df\n",
    "                        , con_bas_biz_rec\n",
    "                       )"
   ]
  },
  {
   "cell_type": "markdown",
   "metadata": {},
   "source": [
    "### Load Data"
   ]
  },
  {
   "cell_type": "code",
   "execution_count": 4,
   "metadata": {},
   "outputs": [],
   "source": [
    "biz_df, rev_df, ckin_df, pho_df, tip_df, user_df = load_data()"
   ]
  },
  {
   "cell_type": "code",
   "execution_count": 5,
   "metadata": {},
   "outputs": [
    {
     "data": {
      "text/html": [
       "<style  type=\"text/css\" >\n",
       "</style><table id=\"T_67cdedb6_5a53_11ea_a0fd_b37b3e820140\" ><thead>    <tr>        <th class=\"col_heading level0 col0\" >name</th>        <th class=\"col_heading level0 col1\" >rows</th>        <th class=\"col_heading level0 col2\" >colums</th>    </tr></thead><tbody>\n",
       "                <tr>\n",
       "                                <td id=\"T_67cdedb6_5a53_11ea_a0fd_b37b3e820140row0_col0\" class=\"data row0 col0\" >business</td>\n",
       "                        <td id=\"T_67cdedb6_5a53_11ea_a0fd_b37b3e820140row0_col1\" class=\"data row0 col1\" >192609</td>\n",
       "                        <td id=\"T_67cdedb6_5a53_11ea_a0fd_b37b3e820140row0_col2\" class=\"data row0 col2\" >14</td>\n",
       "            </tr>\n",
       "            <tr>\n",
       "                                <td id=\"T_67cdedb6_5a53_11ea_a0fd_b37b3e820140row1_col0\" class=\"data row1 col0\" >review</td>\n",
       "                        <td id=\"T_67cdedb6_5a53_11ea_a0fd_b37b3e820140row1_col1\" class=\"data row1 col1\" >6685900</td>\n",
       "                        <td id=\"T_67cdedb6_5a53_11ea_a0fd_b37b3e820140row1_col2\" class=\"data row1 col2\" >9</td>\n",
       "            </tr>\n",
       "            <tr>\n",
       "                                <td id=\"T_67cdedb6_5a53_11ea_a0fd_b37b3e820140row2_col0\" class=\"data row2 col0\" >checkin</td>\n",
       "                        <td id=\"T_67cdedb6_5a53_11ea_a0fd_b37b3e820140row2_col1\" class=\"data row2 col1\" >161950</td>\n",
       "                        <td id=\"T_67cdedb6_5a53_11ea_a0fd_b37b3e820140row2_col2\" class=\"data row2 col2\" >2</td>\n",
       "            </tr>\n",
       "            <tr>\n",
       "                                <td id=\"T_67cdedb6_5a53_11ea_a0fd_b37b3e820140row3_col0\" class=\"data row3 col0\" >photo</td>\n",
       "                        <td id=\"T_67cdedb6_5a53_11ea_a0fd_b37b3e820140row3_col1\" class=\"data row3 col1\" >200000</td>\n",
       "                        <td id=\"T_67cdedb6_5a53_11ea_a0fd_b37b3e820140row3_col2\" class=\"data row3 col2\" >4</td>\n",
       "            </tr>\n",
       "            <tr>\n",
       "                                <td id=\"T_67cdedb6_5a53_11ea_a0fd_b37b3e820140row4_col0\" class=\"data row4 col0\" >tip</td>\n",
       "                        <td id=\"T_67cdedb6_5a53_11ea_a0fd_b37b3e820140row4_col1\" class=\"data row4 col1\" >1223094</td>\n",
       "                        <td id=\"T_67cdedb6_5a53_11ea_a0fd_b37b3e820140row4_col2\" class=\"data row4 col2\" >5</td>\n",
       "            </tr>\n",
       "            <tr>\n",
       "                                <td id=\"T_67cdedb6_5a53_11ea_a0fd_b37b3e820140row5_col0\" class=\"data row5 col0\" >user</td>\n",
       "                        <td id=\"T_67cdedb6_5a53_11ea_a0fd_b37b3e820140row5_col1\" class=\"data row5 col1\" >1637138</td>\n",
       "                        <td id=\"T_67cdedb6_5a53_11ea_a0fd_b37b3e820140row5_col2\" class=\"data row5 col2\" >22</td>\n",
       "            </tr>\n",
       "    </tbody></table>"
      ],
      "text/plain": [
       "<pandas.io.formats.style.Styler at 0x7f1751c34a90>"
      ]
     },
     "execution_count": 5,
     "metadata": {},
     "output_type": "execute_result"
    }
   ],
   "source": [
    "data_summary(biz_df\n",
    "             , rev_df\n",
    "             , ckin_df\n",
    "             , pho_df\n",
    "             , tip_df\n",
    "             , user_df)"
   ]
  },
  {
   "cell_type": "code",
   "execution_count": 6,
   "metadata": {},
   "outputs": [],
   "source": [
    "user_rev_biz = combine_tables(user_df\n",
    "                              , rev_df\n",
    "                              , biz_df)"
   ]
  },
  {
   "cell_type": "code",
   "execution_count": 7,
   "metadata": {},
   "outputs": [
    {
     "data": {
      "text/plain": [
       "Las Vegas     1757375\n",
       "Phoenix        645716\n",
       "Toronto        434349\n",
       "Scottsdale     329826\n",
       "Charlotte      273989\n",
       "Name: city, dtype: int64"
      ]
     },
     "execution_count": 7,
     "metadata": {},
     "output_type": "execute_result"
    }
   ],
   "source": [
    "user_rev_biz.city.value_counts()[0:5]"
   ]
  },
  {
   "cell_type": "code",
   "execution_count": 8,
   "metadata": {},
   "outputs": [],
   "source": [
    "user_biz_collab_mat = collab_mat('Scottsdale'\n",
    "                                 , user_rev_biz)"
   ]
  },
  {
   "cell_type": "code",
   "execution_count": 9,
   "metadata": {},
   "outputs": [
    {
     "data": {
      "text/plain": [
       "(140940, 7081)"
      ]
     },
     "execution_count": 9,
     "metadata": {},
     "output_type": "execute_result"
    }
   ],
   "source": [
    "user_biz_collab_mat.shape"
   ]
  },
  {
   "cell_type": "code",
   "execution_count": null,
   "metadata": {},
   "outputs": [],
   "source": []
  },
  {
   "cell_type": "code",
   "execution_count": null,
   "metadata": {},
   "outputs": [],
   "source": []
  },
  {
   "cell_type": "markdown",
   "metadata": {},
   "source": [
    "### SVD"
   ]
  },
  {
   "cell_type": "code",
   "execution_count": 10,
   "metadata": {},
   "outputs": [],
   "source": [
    "sigma, user_biz_predictions = svd_mat(user_biz_collab_mat, k=40)"
   ]
  },
  {
   "cell_type": "code",
   "execution_count": null,
   "metadata": {},
   "outputs": [],
   "source": []
  },
  {
   "cell_type": "code",
   "execution_count": null,
   "metadata": {},
   "outputs": [],
   "source": []
  },
  {
   "cell_type": "markdown",
   "metadata": {},
   "source": [
    "### Precictions"
   ]
  },
  {
   "cell_type": "code",
   "execution_count": 11,
   "metadata": {},
   "outputs": [
    {
     "data": {
      "text/plain": [
       "('Kristin',\n",
       " ['True Food Kitchen',\n",
       "  'Cafe Monarch',\n",
       "  'The Herb Box',\n",
       "  'Sweet Republic',\n",
       "  'Talking Stick Resort'])"
      ]
     },
     "execution_count": 11,
     "metadata": {},
     "output_type": "execute_result"
    }
   ],
   "source": [
    "top_biz_pred('--2HUmLkcNHZp0xw6AMBPg'\n",
    "             , df_all = user_rev_biz\n",
    "             , df_mat = user_biz_collab_mat\n",
    "             , df_pred = user_biz_predictions\n",
    "             , n=5)"
   ]
  },
  {
   "cell_type": "code",
   "execution_count": 12,
   "metadata": {},
   "outputs": [
    {
     "data": {
      "text/plain": [
       "3360      Butters Pancakes & Café\n",
       "312378                 Wildflower\n",
       "600627               Flower Child\n",
       "624904               Viet Kitchen\n",
       "744479                 Wildflower\n",
       "Name: biz_name, dtype: object"
      ]
     },
     "execution_count": 12,
     "metadata": {},
     "output_type": "execute_result"
    }
   ],
   "source": [
    "user_rev_biz['biz_name'].loc[user_rev_biz.user_id == '--2HUmLkcNHZp0xw6AMBPg'][0:5]"
   ]
  },
  {
   "cell_type": "code",
   "execution_count": null,
   "metadata": {},
   "outputs": [],
   "source": []
  },
  {
   "cell_type": "code",
   "execution_count": null,
   "metadata": {},
   "outputs": [],
   "source": []
  },
  {
   "cell_type": "markdown",
   "metadata": {},
   "source": [
    "### Validation"
   ]
  },
  {
   "cell_type": "code",
   "execution_count": 13,
   "metadata": {},
   "outputs": [
    {
     "name": "stdout",
     "output_type": "stream",
     "text": [
      "RMSE: 0.7047\n"
     ]
    }
   ],
   "source": [
    "data, svd_acc, svd_cv = svd_model(df = user_rev_biz)"
   ]
  },
  {
   "cell_type": "code",
   "execution_count": 14,
   "metadata": {},
   "outputs": [
    {
     "data": {
      "text/plain": [
       "0.704676106912347"
      ]
     },
     "execution_count": 14,
     "metadata": {},
     "output_type": "execute_result"
    }
   ],
   "source": [
    "svd_acc"
   ]
  },
  {
   "cell_type": "code",
   "execution_count": 15,
   "metadata": {},
   "outputs": [
    {
     "data": {
      "text/plain": [
       "array([0.70154216, 0.69816876, 0.70262592, 0.69853971, 0.69720105])"
      ]
     },
     "execution_count": 15,
     "metadata": {},
     "output_type": "execute_result"
    }
   ],
   "source": [
    "svd_cv"
   ]
  },
  {
   "cell_type": "code",
   "execution_count": 16,
   "metadata": {},
   "outputs": [
    {
     "name": "stdout",
     "output_type": "stream",
     "text": [
      "Estimating biases using als...\n",
      "Estimating biases using als...\n",
      "Estimating biases using als...\n",
      "Estimating biases using als...\n",
      "Estimating biases using als...\n"
     ]
    }
   ],
   "source": [
    "bench_df = surprise_bench(df=user_rev_biz)"
   ]
  },
  {
   "cell_type": "code",
   "execution_count": 17,
   "metadata": {},
   "outputs": [
    {
     "data": {
      "text/html": [
       "<div>\n",
       "<style scoped>\n",
       "    .dataframe tbody tr th:only-of-type {\n",
       "        vertical-align: middle;\n",
       "    }\n",
       "\n",
       "    .dataframe tbody tr th {\n",
       "        vertical-align: top;\n",
       "    }\n",
       "\n",
       "    .dataframe thead th {\n",
       "        text-align: right;\n",
       "    }\n",
       "</style>\n",
       "<table border=\"1\" class=\"dataframe\">\n",
       "  <thead>\n",
       "    <tr style=\"text-align: right;\">\n",
       "      <th></th>\n",
       "      <th>test_rmse</th>\n",
       "      <th>test_mae</th>\n",
       "      <th>fit_time</th>\n",
       "      <th>test_time</th>\n",
       "    </tr>\n",
       "    <tr>\n",
       "      <th>Algorithm</th>\n",
       "      <th></th>\n",
       "      <th></th>\n",
       "      <th></th>\n",
       "      <th></th>\n",
       "    </tr>\n",
       "  </thead>\n",
       "  <tbody>\n",
       "    <tr>\n",
       "      <th>NMF</th>\n",
       "      <td>0.638938</td>\n",
       "      <td>0.403448</td>\n",
       "      <td>21.671024</td>\n",
       "      <td>0.707609</td>\n",
       "    </tr>\n",
       "    <tr>\n",
       "      <th>SVDpp</th>\n",
       "      <td>0.681448</td>\n",
       "      <td>0.461397</td>\n",
       "      <td>49.620264</td>\n",
       "      <td>1.736770</td>\n",
       "    </tr>\n",
       "    <tr>\n",
       "      <th>SVD</th>\n",
       "      <td>0.699552</td>\n",
       "      <td>0.489586</td>\n",
       "      <td>13.361957</td>\n",
       "      <td>0.624362</td>\n",
       "    </tr>\n",
       "    <tr>\n",
       "      <th>BaselineOnly</th>\n",
       "      <td>0.718242</td>\n",
       "      <td>0.509594</td>\n",
       "      <td>1.837605</td>\n",
       "      <td>0.593725</td>\n",
       "    </tr>\n",
       "    <tr>\n",
       "      <th>NormalPredictor</th>\n",
       "      <td>1.102951</td>\n",
       "      <td>0.867716</td>\n",
       "      <td>0.528350</td>\n",
       "      <td>0.667730</td>\n",
       "    </tr>\n",
       "  </tbody>\n",
       "</table>\n",
       "</div>"
      ],
      "text/plain": [
       "                 test_rmse  test_mae   fit_time  test_time\n",
       "Algorithm                                                 \n",
       "NMF               0.638938  0.403448  21.671024   0.707609\n",
       "SVDpp             0.681448  0.461397  49.620264   1.736770\n",
       "SVD               0.699552  0.489586  13.361957   0.624362\n",
       "BaselineOnly      0.718242  0.509594   1.837605   0.593725\n",
       "NormalPredictor   1.102951  0.867716   0.528350   0.667730"
      ]
     },
     "execution_count": 17,
     "metadata": {},
     "output_type": "execute_result"
    }
   ],
   "source": [
    "bench_df"
   ]
  },
  {
   "cell_type": "code",
   "execution_count": null,
   "metadata": {},
   "outputs": [],
   "source": []
  },
  {
   "cell_type": "code",
   "execution_count": null,
   "metadata": {},
   "outputs": [],
   "source": []
  },
  {
   "cell_type": "markdown",
   "metadata": {},
   "source": [
    "### NMF"
   ]
  },
  {
   "cell_type": "code",
   "execution_count": 18,
   "metadata": {},
   "outputs": [],
   "source": [
    "NMF_results = cross_validate(NMF(), data, cv = 5)"
   ]
  },
  {
   "cell_type": "code",
   "execution_count": 19,
   "metadata": {},
   "outputs": [
    {
     "data": {
      "text/plain": [
       "array([0.63540654, 0.63793109, 0.64300185, 0.64204167, 0.64038207])"
      ]
     },
     "execution_count": 19,
     "metadata": {},
     "output_type": "execute_result"
    }
   ],
   "source": [
    "NMF_results['test_rmse']"
   ]
  },
  {
   "cell_type": "code",
   "execution_count": 20,
   "metadata": {},
   "outputs": [],
   "source": [
    "from sklearn.decomposition import NMF"
   ]
  },
  {
   "cell_type": "code",
   "execution_count": 21,
   "metadata": {},
   "outputs": [],
   "source": [
    "nmf_mat = NMF_Mat(user_biz_collab_mat)"
   ]
  },
  {
   "cell_type": "code",
   "execution_count": 22,
   "metadata": {},
   "outputs": [
    {
     "data": {
      "text/plain": [
       "('Kristin',\n",
       " ['True Food Kitchen',\n",
       "  'North Italia',\n",
       "  \"Portillo's Hot Dogs\",\n",
       "  \"Mastro's Ocean Club\",\n",
       "  'Sweet Republic'])"
      ]
     },
     "execution_count": 22,
     "metadata": {},
     "output_type": "execute_result"
    }
   ],
   "source": [
    "top_biz_pred('--2HUmLkcNHZp0xw6AMBPg'\n",
    "             , df_all = user_rev_biz\n",
    "             , df_mat = user_biz_collab_mat\n",
    "             , df_pred = nmf_mat\n",
    "             , n=5)"
   ]
  },
  {
   "cell_type": "code",
   "execution_count": 23,
   "metadata": {},
   "outputs": [
    {
     "data": {
      "text/plain": [
       "3360        Butters Pancakes & Café\n",
       "312378                   Wildflower\n",
       "600627                 Flower Child\n",
       "624904                 Viet Kitchen\n",
       "744479                   Wildflower\n",
       "746301     Original Breakfast House\n",
       "771054      Andreoli Italian Grocer\n",
       "838710                 Barrio Queen\n",
       "1147492        Rocket Burger & Subs\n",
       "1155989                 Rustic Cafe\n",
       "Name: biz_name, dtype: object"
      ]
     },
     "execution_count": 23,
     "metadata": {},
     "output_type": "execute_result"
    }
   ],
   "source": [
    "user_rev_biz['biz_name'].loc[user_rev_biz.user_id == '--2HUmLkcNHZp0xw6AMBPg'][0:10]"
   ]
  },
  {
   "cell_type": "code",
   "execution_count": null,
   "metadata": {},
   "outputs": [],
   "source": []
  },
  {
   "cell_type": "code",
   "execution_count": null,
   "metadata": {},
   "outputs": [],
   "source": []
  },
  {
   "cell_type": "markdown",
   "metadata": {},
   "source": [
    "### Neural Network Predictor (Recommender???)\n",
    "\n"
   ]
  },
  {
   "cell_type": "code",
   "execution_count": 24,
   "metadata": {},
   "outputs": [],
   "source": [
    "# Source: https://www.youtube.com/watch?v=4vwNkHFuZBk"
   ]
  },
  {
   "cell_type": "code",
   "execution_count": 25,
   "metadata": {},
   "outputs": [],
   "source": [
    "from tensorflow.keras.layers import (Input\n",
    "                                     , Embedding\n",
    "                                     , Dot\n",
    "                                     , Flatten\n",
    "                                    )\n",
    "from tensorflow.keras.models import Model\n",
    "from tensorflow.keras.models import load_model\n",
    "from tensorflow.keras.callbacks import History\n",
    "from tensorflow.keras.metrics import Accuracy\n",
    "from tensorflow.keras.callbacks import Callback\n",
    "\n",
    "import os"
   ]
  },
  {
   "cell_type": "code",
   "execution_count": 26,
   "metadata": {},
   "outputs": [
    {
     "name": "stdout",
     "output_type": "stream",
     "text": [
      "\n",
      "Testing loss: 14.257628291370043, acc: 0.0\n",
      "\n",
      "\n",
      "Testing loss: 11.043365735690905, acc: 0.0002425506681902334\n",
      "\n",
      "\n",
      "Testing loss: 9.064130306585085, acc: 0.0008489273022860289\n",
      "\n",
      "\n",
      "Testing loss: 7.851060826355367, acc: 0.0012612635036930442\n",
      "\n",
      "\n",
      "Testing loss: 7.082931885806678, acc: 0.001491686562076211\n",
      "\n",
      "\n",
      "Testing loss: 6.5866060142226095, acc: 0.0015523242764174938\n",
      "\n",
      "\n",
      "Testing loss: 6.251445790087311, acc: 0.0016129618743434548\n",
      "\n",
      "\n",
      "Testing loss: 6.0205780349644105, acc: 0.0016735995886847377\n",
      "\n",
      "\n",
      "Testing loss: 5.863355980989031, acc: 0.0017099821707233787\n",
      "\n",
      "\n",
      "Testing loss: 5.7603639446200114, acc: 0.0016735995886847377\n",
      "\n",
      "\n",
      "Testing loss: 5.687431131129264, acc: 0.0016735995886847377\n",
      "\n",
      "\n",
      "Testing loss: 5.636232532507605, acc: 0.0017099821707233787\n",
      "\n",
      "\n",
      "Testing loss: 5.598479122356077, acc: 0.0016857271548360586\n",
      "\n",
      "\n",
      "Testing loss: 5.571781806555342, acc: 0.0016978546045720577\n",
      "\n",
      "\n",
      "Testing loss: 5.550388453481141, acc: 0.0016857271548360586\n",
      "\n",
      "\n",
      "Testing loss: 5.5355299876400315, acc: 0.0017342371866106987\n",
      "\n",
      "WARNING:tensorflow:From /home/david/.local/lib/python3.7/site-packages/tensorflow_core/python/ops/resource_variable_ops.py:1786: calling BaseResourceVariable.__init__ (from tensorflow.python.ops.resource_variable_ops) with constraint is deprecated and will be removed in a future version.\n",
      "Instructions for updating:\n",
      "If using Keras pass *_constraint arguments to layers.\n",
      "INFO:tensorflow:Assets written to: NN_Embed_Model/assets\n"
     ]
    }
   ],
   "source": [
    "X_test, model, history = NN_Model(df = user_rev_biz\n",
    "                                 , n_factors = 5\n",
    "                                 , ep = 16)"
   ]
  },
  {
   "cell_type": "code",
   "execution_count": 27,
   "metadata": {},
   "outputs": [
    {
     "data": {
      "image/png": "[encoded data removed]",
      "text/plain": [
       "<Figure size 864x504 with 2 Axes>"
      ]
     },
     "metadata": {
      "needs_background": "light"
     },
     "output_type": "display_data"
    }
   ],
   "source": [
    "fig, ax = plt.subplots(1, 2, figsize=(12,7), tight_layout=True)\n",
    "ax[0].plot(history.history['loss'])\n",
    "ax[0].set_xlabel('Epochs')\n",
    "ax[0].set_ylabel('Training Error')\n",
    "ax[0].set_title('MSE')\n",
    "    \n",
    "ax[1].plot(history.history['accuracy'])\n",
    "ax[1].set_xlabel('Epochs')\n",
    "ax[1].set_ylabel('Accuracy')\n",
    "ax[1].set_title('Accuracy');"
   ]
  },
  {
   "cell_type": "code",
   "execution_count": 28,
   "metadata": {},
   "outputs": [
    {
     "data": {
      "text/html": [
       "<div>\n",
       "<style scoped>\n",
       "    .dataframe tbody tr th:only-of-type {\n",
       "        vertical-align: middle;\n",
       "    }\n",
       "\n",
       "    .dataframe tbody tr th {\n",
       "        vertical-align: top;\n",
       "    }\n",
       "\n",
       "    .dataframe thead th {\n",
       "        text-align: right;\n",
       "    }\n",
       "</style>\n",
       "<table border=\"1\" class=\"dataframe\">\n",
       "  <thead>\n",
       "    <tr style=\"text-align: right;\">\n",
       "      <th></th>\n",
       "      <th>user_name</th>\n",
       "      <th>biz_name</th>\n",
       "      <th>average_stars</th>\n",
       "      <th>Prediction</th>\n",
       "    </tr>\n",
       "  </thead>\n",
       "  <tbody>\n",
       "    <tr>\n",
       "      <th>1600473</th>\n",
       "      <td>Mirco</td>\n",
       "      <td>Merci French Cafe &amp; Patisserie</td>\n",
       "      <td>4.81</td>\n",
       "      <td>4.678542</td>\n",
       "    </tr>\n",
       "    <tr>\n",
       "      <th>773319</th>\n",
       "      <td>Scott</td>\n",
       "      <td>McCormick-Stillman Railroad Park</td>\n",
       "      <td>3.62</td>\n",
       "      <td>3.595430</td>\n",
       "    </tr>\n",
       "    <tr>\n",
       "      <th>2675092</th>\n",
       "      <td>Ashley</td>\n",
       "      <td>Zoes Kitchen</td>\n",
       "      <td>4.11</td>\n",
       "      <td>4.583051</td>\n",
       "    </tr>\n",
       "    <tr>\n",
       "      <th>3141992</th>\n",
       "      <td>Dawn</td>\n",
       "      <td>Scottsdale Nails</td>\n",
       "      <td>4.70</td>\n",
       "      <td>4.824436</td>\n",
       "    </tr>\n",
       "    <tr>\n",
       "      <th>2063207</th>\n",
       "      <td>Shaila</td>\n",
       "      <td>Saints &amp; Scissors Salon</td>\n",
       "      <td>4.71</td>\n",
       "      <td>0.167454</td>\n",
       "    </tr>\n",
       "    <tr>\n",
       "      <th>3693030</th>\n",
       "      <td>Shaya</td>\n",
       "      <td>Persian Room</td>\n",
       "      <td>4.06</td>\n",
       "      <td>4.053452</td>\n",
       "    </tr>\n",
       "    <tr>\n",
       "      <th>6037906</th>\n",
       "      <td>Marnie</td>\n",
       "      <td>Sir Grout Phoenix</td>\n",
       "      <td>3.75</td>\n",
       "      <td>-0.039038</td>\n",
       "    </tr>\n",
       "    <tr>\n",
       "      <th>1878741</th>\n",
       "      <td>Chelsea</td>\n",
       "      <td>Houston's Restaurant</td>\n",
       "      <td>4.25</td>\n",
       "      <td>4.186199</td>\n",
       "    </tr>\n",
       "    <tr>\n",
       "      <th>4351605</th>\n",
       "      <td>Horace</td>\n",
       "      <td>Nekter Juice Bar</td>\n",
       "      <td>4.75</td>\n",
       "      <td>4.830664</td>\n",
       "    </tr>\n",
       "    <tr>\n",
       "      <th>4458509</th>\n",
       "      <td>Stephanie</td>\n",
       "      <td>Blue Adobe Santa Fe Grille</td>\n",
       "      <td>3.75</td>\n",
       "      <td>3.496250</td>\n",
       "    </tr>\n",
       "    <tr>\n",
       "      <th>2641508</th>\n",
       "      <td>RvChick</td>\n",
       "      <td>The Thumb BBQ</td>\n",
       "      <td>3.48</td>\n",
       "      <td>0.081662</td>\n",
       "    </tr>\n",
       "    <tr>\n",
       "      <th>3931782</th>\n",
       "      <td>Alan</td>\n",
       "      <td>Tutti Santi</td>\n",
       "      <td>5.00</td>\n",
       "      <td>0.046320</td>\n",
       "    </tr>\n",
       "    <tr>\n",
       "      <th>4911170</th>\n",
       "      <td>G</td>\n",
       "      <td>Liberty Station</td>\n",
       "      <td>3.70</td>\n",
       "      <td>3.802338</td>\n",
       "    </tr>\n",
       "    <tr>\n",
       "      <th>1301540</th>\n",
       "      <td>Allie</td>\n",
       "      <td>AZ88</td>\n",
       "      <td>3.71</td>\n",
       "      <td>3.444375</td>\n",
       "    </tr>\n",
       "    <tr>\n",
       "      <th>919</th>\n",
       "      <td>william</td>\n",
       "      <td>Pita Jungle</td>\n",
       "      <td>4.80</td>\n",
       "      <td>4.646445</td>\n",
       "    </tr>\n",
       "  </tbody>\n",
       "</table>\n",
       "</div>"
      ],
      "text/plain": [
       "         user_name                          biz_name  average_stars  \\\n",
       "1600473      Mirco    Merci French Cafe & Patisserie           4.81   \n",
       "773319       Scott  McCormick-Stillman Railroad Park           3.62   \n",
       "2675092     Ashley                      Zoes Kitchen           4.11   \n",
       "3141992       Dawn                  Scottsdale Nails           4.70   \n",
       "2063207     Shaila           Saints & Scissors Salon           4.71   \n",
       "3693030      Shaya                      Persian Room           4.06   \n",
       "6037906     Marnie                 Sir Grout Phoenix           3.75   \n",
       "1878741    Chelsea              Houston's Restaurant           4.25   \n",
       "4351605     Horace                  Nekter Juice Bar           4.75   \n",
       "4458509  Stephanie        Blue Adobe Santa Fe Grille           3.75   \n",
       "2641508    RvChick                     The Thumb BBQ           3.48   \n",
       "3931782       Alan                       Tutti Santi           5.00   \n",
       "4911170          G                   Liberty Station           3.70   \n",
       "1301540      Allie                              AZ88           3.71   \n",
       "919        william                       Pita Jungle           4.80   \n",
       "\n",
       "         Prediction  \n",
       "1600473    4.678542  \n",
       "773319     3.595430  \n",
       "2675092    4.583051  \n",
       "3141992    4.824436  \n",
       "2063207    0.167454  \n",
       "3693030    4.053452  \n",
       "6037906   -0.039038  \n",
       "1878741    4.186199  \n",
       "4351605    4.830664  \n",
       "4458509    3.496250  \n",
       "2641508    0.081662  \n",
       "3931782    0.046320  \n",
       "4911170    3.802338  \n",
       "1301540    3.444375  \n",
       "919        4.646445  "
      ]
     },
     "execution_count": 28,
     "metadata": {},
     "output_type": "execute_result"
    }
   ],
   "source": [
    "NN_Results_df(mod = model\n",
    "             , xtest = X_test\n",
    "             , n=15)"
   ]
  },
  {
   "cell_type": "code",
   "execution_count": null,
   "metadata": {},
   "outputs": [],
   "source": []
  },
  {
   "cell_type": "code",
   "execution_count": null,
   "metadata": {},
   "outputs": [],
   "source": []
  },
  {
   "cell_type": "markdown",
   "metadata": {},
   "source": [
    "### Using Texts to Model Business to Business Similarity"
   ]
  },
  {
   "cell_type": "code",
   "execution_count": 29,
   "metadata": {},
   "outputs": [
    {
     "data": {
      "text/html": [
       "<div>\n",
       "<style scoped>\n",
       "    .dataframe tbody tr th:only-of-type {\n",
       "        vertical-align: middle;\n",
       "    }\n",
       "\n",
       "    .dataframe tbody tr th {\n",
       "        vertical-align: top;\n",
       "    }\n",
       "\n",
       "    .dataframe thead th {\n",
       "        text-align: right;\n",
       "    }\n",
       "</style>\n",
       "<table border=\"1\" class=\"dataframe\">\n",
       "  <thead>\n",
       "    <tr style=\"text-align: right;\">\n",
       "      <th></th>\n",
       "      <th>name</th>\n",
       "      <th>rating</th>\n",
       "    </tr>\n",
       "  </thead>\n",
       "  <tbody>\n",
       "    <tr>\n",
       "      <th>0</th>\n",
       "      <td>Ferguson Bath, Kitchen &amp; Lighting Gallery</td>\n",
       "      <td>0.516044</td>\n",
       "    </tr>\n",
       "    <tr>\n",
       "      <th>1</th>\n",
       "      <td>Scottsdale Rooter Plumbers</td>\n",
       "      <td>0.423362</td>\n",
       "    </tr>\n",
       "    <tr>\n",
       "      <th>2</th>\n",
       "      <td>Troon North Custom Tailor</td>\n",
       "      <td>0.421407</td>\n",
       "    </tr>\n",
       "    <tr>\n",
       "      <th>3</th>\n",
       "      <td>The Flower Cart</td>\n",
       "      <td>0.419961</td>\n",
       "    </tr>\n",
       "    <tr>\n",
       "      <th>4</th>\n",
       "      <td>Gainey Fabricare Cleaners</td>\n",
       "      <td>0.418511</td>\n",
       "    </tr>\n",
       "  </tbody>\n",
       "</table>\n",
       "</div>"
      ],
      "text/plain": [
       "                                        name    rating\n",
       "0  Ferguson Bath, Kitchen & Lighting Gallery  0.516044\n",
       "1                 Scottsdale Rooter Plumbers  0.423362\n",
       "2                  Troon North Custom Tailor  0.421407\n",
       "3                            The Flower Cart  0.419961\n",
       "4                  Gainey Fabricare Cleaners  0.418511"
      ]
     },
     "execution_count": 29,
     "metadata": {},
     "output_type": "execute_result"
    }
   ],
   "source": [
    "con_bas_biz_rec(df = user_rev_biz, n = 5)"
   ]
  },
  {
   "cell_type": "code",
   "execution_count": null,
   "metadata": {},
   "outputs": [],
   "source": []
  },
  {
   "cell_type": "code",
   "execution_count": null,
   "metadata": {},
   "outputs": [],
   "source": []
  },
  {
   "cell_type": "code",
   "execution_count": null,
   "metadata": {},
   "outputs": [],
   "source": []
  },
  {
   "cell_type": "code",
   "execution_count": null,
   "metadata": {},
   "outputs": [],
   "source": []
  },
  {
   "cell_type": "code",
   "execution_count": null,
   "metadata": {},
   "outputs": [],
   "source": []
  },
  {
   "cell_type": "code",
   "execution_count": null,
   "metadata": {},
   "outputs": [],
   "source": []
  },
  {
   "cell_type": "code",
   "execution_count": null,
   "metadata": {},
   "outputs": [],
   "source": []
  },
  {
   "cell_type": "code",
   "execution_count": null,
   "metadata": {},
   "outputs": [],
   "source": []
  },
  {
   "cell_type": "code",
   "execution_count": null,
   "metadata": {},
   "outputs": [],
   "source": []
  },
  {
   "cell_type": "code",
   "execution_count": null,
   "metadata": {},
   "outputs": [],
   "source": []
  },
  {
   "cell_type": "code",
   "execution_count": null,
   "metadata": {},
   "outputs": [],
   "source": []
  },
  {
   "cell_type": "code",
   "execution_count": null,
   "metadata": {},
   "outputs": [],
   "source": []
  },
  {
   "cell_type": "code",
   "execution_count": null,
   "metadata": {},
   "outputs": [],
   "source": []
  }
 ],
 "metadata": {
  "kernelspec": {
   "display_name": "Python 3",
   "language": "python",
   "name": "python3"
  },
  "language_info": {
   "codemirror_mode": {
    "name": "ipython",
    "version": 3
   },
   "file_extension": ".py",
   "mimetype": "text/x-python",
   "name": "python",
   "nbconvert_exporter": "python",
   "pygments_lexer": "ipython3",
   "version": "3.7.5"
  }
 },
 "nbformat": 4,
 "nbformat_minor": 4
}
