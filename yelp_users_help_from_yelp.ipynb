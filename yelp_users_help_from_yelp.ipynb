{
 "cells": [
  {
   "cell_type": "code",
   "execution_count": 1,
   "metadata": {},
   "outputs": [],
   "source": [
    "import pandas as pd\n",
    "import numpy as np\n",
    "from sklearn.model_selection import train_test_split\n",
    "import matplotlib.pyplot as plt\n",
    "import cv2\n",
    "\n",
    "import tensorflow as tf\n",
    "from tensorflow.keras.preprocessing import image\n",
    "from scipy.sparse.linalg import svds"
   ]
  },
  {
   "cell_type": "code",
   "execution_count": 2,
   "metadata": {},
   "outputs": [],
   "source": [
    "%load_ext autoreload\n",
    "%autoreload 2"
   ]
  },
  {
   "cell_type": "code",
   "execution_count": 3,
   "metadata": {},
   "outputs": [],
   "source": [
    "from src.models import (load_data\n",
    "                        , data_summary\n",
    "                        , combine_tables\n",
    "                        , collab_mat\n",
    "                        , svd_mat\n",
    "                        , top_biz_pred\n",
    "                        , surprise_validate\n",
    "                        , NMF_Mat\n",
    "                       )"
   ]
  },
  {
   "cell_type": "code",
   "execution_count": 4,
   "metadata": {},
   "outputs": [],
   "source": [
    "biz_df, rev_df, ckin_df, pho_df, tip_df, user_df = load_data()"
   ]
  },
  {
   "cell_type": "code",
   "execution_count": 5,
   "metadata": {},
   "outputs": [
    {
     "data": {
      "text/html": [
       "<style  type=\"text/css\" >\n",
       "</style><table id=\"T_692041f4_5923_11ea_a0fd_b37b3e820140\" ><thead>    <tr>        <th class=\"col_heading level0 col0\" >name</th>        <th class=\"col_heading level0 col1\" >rows</th>        <th class=\"col_heading level0 col2\" >colums</th>    </tr></thead><tbody>\n",
       "                <tr>\n",
       "                                <td id=\"T_692041f4_5923_11ea_a0fd_b37b3e820140row0_col0\" class=\"data row0 col0\" >business</td>\n",
       "                        <td id=\"T_692041f4_5923_11ea_a0fd_b37b3e820140row0_col1\" class=\"data row0 col1\" >192609</td>\n",
       "                        <td id=\"T_692041f4_5923_11ea_a0fd_b37b3e820140row0_col2\" class=\"data row0 col2\" >14</td>\n",
       "            </tr>\n",
       "            <tr>\n",
       "                                <td id=\"T_692041f4_5923_11ea_a0fd_b37b3e820140row1_col0\" class=\"data row1 col0\" >review</td>\n",
       "                        <td id=\"T_692041f4_5923_11ea_a0fd_b37b3e820140row1_col1\" class=\"data row1 col1\" >6685900</td>\n",
       "                        <td id=\"T_692041f4_5923_11ea_a0fd_b37b3e820140row1_col2\" class=\"data row1 col2\" >9</td>\n",
       "            </tr>\n",
       "            <tr>\n",
       "                                <td id=\"T_692041f4_5923_11ea_a0fd_b37b3e820140row2_col0\" class=\"data row2 col0\" >checkin</td>\n",
       "                        <td id=\"T_692041f4_5923_11ea_a0fd_b37b3e820140row2_col1\" class=\"data row2 col1\" >161950</td>\n",
       "                        <td id=\"T_692041f4_5923_11ea_a0fd_b37b3e820140row2_col2\" class=\"data row2 col2\" >2</td>\n",
       "            </tr>\n",
       "            <tr>\n",
       "                                <td id=\"T_692041f4_5923_11ea_a0fd_b37b3e820140row3_col0\" class=\"data row3 col0\" >photo</td>\n",
       "                        <td id=\"T_692041f4_5923_11ea_a0fd_b37b3e820140row3_col1\" class=\"data row3 col1\" >200000</td>\n",
       "                        <td id=\"T_692041f4_5923_11ea_a0fd_b37b3e820140row3_col2\" class=\"data row3 col2\" >4</td>\n",
       "            </tr>\n",
       "            <tr>\n",
       "                                <td id=\"T_692041f4_5923_11ea_a0fd_b37b3e820140row4_col0\" class=\"data row4 col0\" >tip</td>\n",
       "                        <td id=\"T_692041f4_5923_11ea_a0fd_b37b3e820140row4_col1\" class=\"data row4 col1\" >1223094</td>\n",
       "                        <td id=\"T_692041f4_5923_11ea_a0fd_b37b3e820140row4_col2\" class=\"data row4 col2\" >5</td>\n",
       "            </tr>\n",
       "            <tr>\n",
       "                                <td id=\"T_692041f4_5923_11ea_a0fd_b37b3e820140row5_col0\" class=\"data row5 col0\" >user</td>\n",
       "                        <td id=\"T_692041f4_5923_11ea_a0fd_b37b3e820140row5_col1\" class=\"data row5 col1\" >1637138</td>\n",
       "                        <td id=\"T_692041f4_5923_11ea_a0fd_b37b3e820140row5_col2\" class=\"data row5 col2\" >22</td>\n",
       "            </tr>\n",
       "    </tbody></table>"
      ],
      "text/plain": [
       "<pandas.io.formats.style.Styler at 0x7f6614ee8d90>"
      ]
     },
     "execution_count": 5,
     "metadata": {},
     "output_type": "execute_result"
    }
   ],
   "source": [
    "data_summary(biz_df\n",
    "             , rev_df\n",
    "             , ckin_df\n",
    "             , pho_df\n",
    "             , tip_df\n",
    "             , user_df)"
   ]
  },
  {
   "cell_type": "code",
   "execution_count": 6,
   "metadata": {},
   "outputs": [],
   "source": [
    "user_rev_biz = combine_tables(user_df\n",
    "                              , rev_df\n",
    "                              , biz_df)"
   ]
  },
  {
   "cell_type": "code",
   "execution_count": 7,
   "metadata": {},
   "outputs": [
    {
     "data": {
      "text/plain": [
       "Las Vegas     1757375\n",
       "Phoenix        645716\n",
       "Toronto        434349\n",
       "Scottsdale     329826\n",
       "Charlotte      273989\n",
       "Name: city, dtype: int64"
      ]
     },
     "execution_count": 7,
     "metadata": {},
     "output_type": "execute_result"
    }
   ],
   "source": [
    "user_rev_biz.city.value_counts()[0:5]"
   ]
  },
  {
   "cell_type": "code",
   "execution_count": 8,
   "metadata": {},
   "outputs": [],
   "source": [
    "user_biz_collab_mat = collab_mat('Scottsdale'\n",
    "                                 , user_rev_biz)"
   ]
  },
  {
   "cell_type": "code",
   "execution_count": 9,
   "metadata": {},
   "outputs": [
    {
     "data": {
      "text/plain": [
       "(140940, 7081)"
      ]
     },
     "execution_count": 9,
     "metadata": {},
     "output_type": "execute_result"
    }
   ],
   "source": [
    "user_biz_collab_mat.shape"
   ]
  },
  {
   "cell_type": "markdown",
   "metadata": {},
   "source": [
    "### SVD"
   ]
  },
  {
   "cell_type": "code",
   "execution_count": 10,
   "metadata": {},
   "outputs": [],
   "source": [
    "sigma, user_biz_predictions = svd_mat(user_biz_collab_mat, k=40)"
   ]
  },
  {
   "cell_type": "markdown",
   "metadata": {},
   "source": [
    "### Precictions"
   ]
  },
  {
   "cell_type": "code",
   "execution_count": 11,
   "metadata": {},
   "outputs": [
    {
     "data": {
      "text/plain": [
       "('Kristin',\n",
       " ['True Food Kitchen',\n",
       "  'Cafe Monarch',\n",
       "  'The Herb Box',\n",
       "  'Sweet Republic',\n",
       "  'Talking Stick Resort'])"
      ]
     },
     "execution_count": 11,
     "metadata": {},
     "output_type": "execute_result"
    }
   ],
   "source": [
    "top_biz_pred('--2HUmLkcNHZp0xw6AMBPg'\n",
    "             , df_all = user_rev_biz\n",
    "             , df_mat = user_biz_collab_mat\n",
    "             , df_pred = user_biz_predictions\n",
    "             , n=5)"
   ]
  },
  {
   "cell_type": "code",
   "execution_count": 12,
   "metadata": {},
   "outputs": [
    {
     "data": {
      "text/plain": [
       "3360      Butters Pancakes & Café\n",
       "312378                 Wildflower\n",
       "600627               Flower Child\n",
       "624904               Viet Kitchen\n",
       "744479                 Wildflower\n",
       "Name: biz_name, dtype: object"
      ]
     },
     "execution_count": 12,
     "metadata": {},
     "output_type": "execute_result"
    }
   ],
   "source": [
    "user_rev_biz['biz_name'].loc[user_rev_biz.user_id == '--2HUmLkcNHZp0xw6AMBPg'][0:5]"
   ]
  },
  {
   "cell_type": "markdown",
   "metadata": {},
   "source": [
    "### Validation"
   ]
  },
  {
   "cell_type": "code",
   "execution_count": 13,
   "metadata": {},
   "outputs": [],
   "source": [
    "from surprise import (SVD\n",
    "                      , SVDpp\n",
    "                      , SlopeOne\n",
    "                      , NMF\n",
    "                      , NormalPredictor\n",
    "                      , KNNBaseline\n",
    "                      , KNNBasic\n",
    "                      , KNNWithMeans\n",
    "                      , KNNWithZScore\n",
    "                      , BaselineOnly\n",
    "                      , CoClustering)\n",
    "from surprise import NormalPredictor\n",
    "from surprise import Dataset\n",
    "from surprise import Reader\n",
    "from surprise.model_selection import cross_validate, train_test_split\n",
    "from surprise import accuracy"
   ]
  },
  {
   "cell_type": "code",
   "execution_count": 14,
   "metadata": {},
   "outputs": [],
   "source": [
    "data = user_rev_biz[['user_id'\n",
    "                    , 'business_id'\n",
    "                    , 'average_stars']].loc[user_rev_biz.city == 'Scottsdale']\n"
   ]
  },
  {
   "cell_type": "code",
   "execution_count": 15,
   "metadata": {},
   "outputs": [
    {
     "data": {
      "text/plain": [
       "numpy.float64"
      ]
     },
     "execution_count": 15,
     "metadata": {},
     "output_type": "execute_result"
    }
   ],
   "source": [
    "type(data.average_stars.iat[0])"
   ]
  },
  {
   "cell_type": "code",
   "execution_count": 16,
   "metadata": {},
   "outputs": [
    {
     "data": {
      "text/plain": [
       "(329826, 3)"
      ]
     },
     "execution_count": 16,
     "metadata": {},
     "output_type": "execute_result"
    }
   ],
   "source": [
    "data.shape"
   ]
  },
  {
   "cell_type": "code",
   "execution_count": 17,
   "metadata": {},
   "outputs": [
    {
     "data": {
      "text/plain": [
       "140940"
      ]
     },
     "execution_count": 17,
     "metadata": {},
     "output_type": "execute_result"
    }
   ],
   "source": [
    "len(data.user_id.unique())"
   ]
  },
  {
   "cell_type": "code",
   "execution_count": 18,
   "metadata": {},
   "outputs": [
    {
     "data": {
      "text/plain": [
       "7081"
      ]
     },
     "execution_count": 18,
     "metadata": {},
     "output_type": "execute_result"
    }
   ],
   "source": [
    "len(data.business_id.unique())"
   ]
  },
  {
   "cell_type": "code",
   "execution_count": 19,
   "metadata": {},
   "outputs": [],
   "source": [
    "reader = Reader()\n",
    "data = Dataset.load_from_df(data, reader)"
   ]
  },
  {
   "cell_type": "code",
   "execution_count": 20,
   "metadata": {},
   "outputs": [],
   "source": [
    "trainset, testset = train_test_split(data, test_size = 0.25)"
   ]
  },
  {
   "cell_type": "code",
   "execution_count": 21,
   "metadata": {},
   "outputs": [
    {
     "data": {
      "text/plain": [
       "<surprise.prediction_algorithms.matrix_factorization.SVD at 0x7f66149a1110>"
      ]
     },
     "execution_count": 21,
     "metadata": {},
     "output_type": "execute_result"
    }
   ],
   "source": [
    "algo = SVD()\n",
    "algo.fit(trainset)"
   ]
  },
  {
   "cell_type": "code",
   "execution_count": 22,
   "metadata": {},
   "outputs": [],
   "source": [
    "predictions = algo.test(testset)"
   ]
  },
  {
   "cell_type": "code",
   "execution_count": 23,
   "metadata": {},
   "outputs": [
    {
     "name": "stdout",
     "output_type": "stream",
     "text": [
      "RMSE: 0.7076\n"
     ]
    },
    {
     "data": {
      "text/plain": [
       "0.7075752860123586"
      ]
     },
     "execution_count": 23,
     "metadata": {},
     "output_type": "execute_result"
    }
   ],
   "source": [
    "accuracy.rmse(predictions)"
   ]
  },
  {
   "cell_type": "code",
   "execution_count": 24,
   "metadata": {},
   "outputs": [],
   "source": [
    "svd_results = cross_validate(SVD(), data, cv = 5)"
   ]
  },
  {
   "cell_type": "code",
   "execution_count": 25,
   "metadata": {},
   "outputs": [
    {
     "data": {
      "text/plain": [
       "array([0.69640875, 0.70039832, 0.70292265, 0.69248905, 0.70347494])"
      ]
     },
     "execution_count": 25,
     "metadata": {},
     "output_type": "execute_result"
    }
   ],
   "source": [
    "svd_results['test_rmse']"
   ]
  },
  {
   "cell_type": "code",
   "execution_count": 26,
   "metadata": {},
   "outputs": [
    {
     "name": "stdout",
     "output_type": "stream",
     "text": [
      "Evaluating RMSE of algorithm SVD on 5 split(s).\n",
      "\n",
      "                  Fold 1  Fold 2  Fold 3  Fold 4  Fold 5  Mean    Std     \n",
      "RMSE (testset)    0.7002  0.6912  0.7017  0.7048  0.6994  0.6994  0.0045  \n",
      "Fit time          11.93   12.57   12.29   12.45   12.98   12.44   0.34    \n",
      "Test time         0.38    0.41    0.80    0.85    0.46    0.58    0.20    \n",
      "Evaluating RMSE of algorithm NMF on 5 split(s).\n",
      "\n",
      "                  Fold 1  Fold 2  Fold 3  Fold 4  Fold 5  Mean    Std     \n",
      "RMSE (testset)    0.6420  0.6401  0.6410  0.6355  0.6365  0.6390  0.0026  \n",
      "Fit time          22.33   20.29   21.99   19.74   19.80   20.83   1.11    \n",
      "Test time         0.34    0.39    0.33    0.33    0.32    0.34    0.02    \n",
      "Evaluating RMSE of algorithm NormalPredictor on 5 split(s).\n",
      "\n",
      "                  Fold 1  Fold 2  Fold 3  Fold 4  Fold 5  Mean    Std     \n",
      "RMSE (testset)    1.1024  1.0983  1.1024  1.1052  1.1037  1.1024  0.0023  \n",
      "Fit time          0.40    0.54    0.55    0.56    0.56    0.52    0.06    \n",
      "Test time         0.38    0.38    0.38    0.38    0.38    0.38    0.00    \n",
      "Evaluating RMSE of algorithm CoClustering on 5 split(s).\n",
      "\n",
      "                  Fold 1  Fold 2  Fold 3  Fold 4  Fold 5  Mean    Std     \n",
      "RMSE (testset)    0.7977  0.7936  0.7983  0.7989  0.8155  0.8008  0.0076  \n",
      "Fit time          14.54   14.55   14.69   14.56   14.65   14.60   0.06    \n",
      "Test time         1.10    0.30    0.31    0.30    0.31    0.46    0.32    \n",
      "Estimating biases using als...\n",
      "Estimating biases using als...\n",
      "Estimating biases using als...\n",
      "Estimating biases using als...\n",
      "Estimating biases using als...\n",
      "Evaluating RMSE of algorithm BaselineOnly on 5 split(s).\n",
      "\n",
      "                  Fold 1  Fold 2  Fold 3  Fold 4  Fold 5  Mean    Std     \n",
      "RMSE (testset)    0.7241  0.7130  0.7176  0.7188  0.7170  0.7181  0.0036  \n",
      "Fit time          1.71    1.81    1.84    1.84    1.88    1.82    0.06    \n",
      "Test time         0.27    0.28    0.28    1.16    0.28    0.45    0.35    \n"
     ]
    },
    {
     "data": {
      "text/html": [
       "<div>\n",
       "<style scoped>\n",
       "    .dataframe tbody tr th:only-of-type {\n",
       "        vertical-align: middle;\n",
       "    }\n",
       "\n",
       "    .dataframe tbody tr th {\n",
       "        vertical-align: top;\n",
       "    }\n",
       "\n",
       "    .dataframe thead th {\n",
       "        text-align: right;\n",
       "    }\n",
       "</style>\n",
       "<table border=\"1\" class=\"dataframe\">\n",
       "  <thead>\n",
       "    <tr style=\"text-align: right;\">\n",
       "      <th></th>\n",
       "      <th>test_rmse</th>\n",
       "      <th>fit_time</th>\n",
       "      <th>test_time</th>\n",
       "    </tr>\n",
       "    <tr>\n",
       "      <th>Algorithm</th>\n",
       "      <th></th>\n",
       "      <th></th>\n",
       "      <th></th>\n",
       "    </tr>\n",
       "  </thead>\n",
       "  <tbody>\n",
       "    <tr>\n",
       "      <th>NMF</th>\n",
       "      <td>0.639001</td>\n",
       "      <td>20.833203</td>\n",
       "      <td>0.343200</td>\n",
       "    </tr>\n",
       "    <tr>\n",
       "      <th>SVD</th>\n",
       "      <td>0.699430</td>\n",
       "      <td>12.442564</td>\n",
       "      <td>0.578191</td>\n",
       "    </tr>\n",
       "    <tr>\n",
       "      <th>BaselineOnly</th>\n",
       "      <td>0.718083</td>\n",
       "      <td>1.817427</td>\n",
       "      <td>0.454606</td>\n",
       "    </tr>\n",
       "    <tr>\n",
       "      <th>CoClustering</th>\n",
       "      <td>0.800819</td>\n",
       "      <td>14.599660</td>\n",
       "      <td>0.463714</td>\n",
       "    </tr>\n",
       "    <tr>\n",
       "      <th>NormalPredictor</th>\n",
       "      <td>1.102403</td>\n",
       "      <td>0.522243</td>\n",
       "      <td>0.378972</td>\n",
       "    </tr>\n",
       "  </tbody>\n",
       "</table>\n",
       "</div>"
      ],
      "text/plain": [
       "                 test_rmse   fit_time  test_time\n",
       "Algorithm                                       \n",
       "NMF               0.639001  20.833203   0.343200\n",
       "SVD               0.699430  12.442564   0.578191\n",
       "BaselineOnly      0.718083   1.817427   0.454606\n",
       "CoClustering      0.800819  14.599660   0.463714\n",
       "NormalPredictor   1.102403   0.522243   0.378972"
      ]
     },
     "execution_count": 26,
     "metadata": {},
     "output_type": "execute_result"
    }
   ],
   "source": [
    "\n",
    "benchmark = []\n",
    "# Iterate over all algorithms\n",
    "for algorithm in [SVD()\n",
    "                  , NMF()\n",
    "                  , NormalPredictor()\n",
    "                  , CoClustering()\n",
    "                  , BaselineOnly()\n",
    "                 ]:\n",
    "    # Perform cross validation\n",
    "    results = cross_validate(algorithm\n",
    "                             , data\n",
    "                             , measures=['RMSE']\n",
    "                             , cv=5\n",
    "                             , verbose=True)\n",
    "    \n",
    "    # Get results & append algorithm name\n",
    "    tmp = pd.DataFrame.from_dict(results).mean(axis=0)\n",
    "    tmp = tmp.append(pd.Series([str(algorithm).split(' ')[0].split('.')[-1]], index=['Algorithm']))\n",
    "    benchmark.append(tmp)\n",
    "    \n",
    "pd.DataFrame(benchmark).set_index('Algorithm').sort_values('test_rmse')"
   ]
  },
  {
   "cell_type": "code",
   "execution_count": null,
   "metadata": {},
   "outputs": [],
   "source": []
  },
  {
   "cell_type": "code",
   "execution_count": null,
   "metadata": {},
   "outputs": [],
   "source": []
  },
  {
   "cell_type": "markdown",
   "metadata": {},
   "source": [
    "### NMF"
   ]
  },
  {
   "cell_type": "code",
   "execution_count": 27,
   "metadata": {},
   "outputs": [],
   "source": [
    "NMF_results = cross_validate(NMF(), data, cv = 5)"
   ]
  },
  {
   "cell_type": "code",
   "execution_count": 28,
   "metadata": {},
   "outputs": [
    {
     "data": {
      "text/plain": [
       "array([0.64961969, 0.63993138, 0.63813608, 0.64281274, 0.62892098])"
      ]
     },
     "execution_count": 28,
     "metadata": {},
     "output_type": "execute_result"
    }
   ],
   "source": [
    "NMF_results['test_rmse']"
   ]
  },
  {
   "cell_type": "code",
   "execution_count": 29,
   "metadata": {},
   "outputs": [],
   "source": [
    "from sklearn.decomposition import NMF"
   ]
  },
  {
   "cell_type": "code",
   "execution_count": 30,
   "metadata": {},
   "outputs": [],
   "source": [
    "model_nmf = NMF(n_components = 40\n",
    "               , init = 'random'\n",
    "               , random_state = 0)"
   ]
  },
  {
   "cell_type": "code",
   "execution_count": 31,
   "metadata": {},
   "outputs": [],
   "source": [
    "m = model_nmf.fit_transform(user_biz_collab_mat)"
   ]
  },
  {
   "cell_type": "code",
   "execution_count": 32,
   "metadata": {},
   "outputs": [
    {
     "data": {
      "text/plain": [
       "(140940, 40)"
      ]
     },
     "execution_count": 32,
     "metadata": {},
     "output_type": "execute_result"
    }
   ],
   "source": [
    "m.shape"
   ]
  },
  {
   "cell_type": "code",
   "execution_count": 33,
   "metadata": {},
   "outputs": [],
   "source": [
    "h = model_nmf.components_"
   ]
  },
  {
   "cell_type": "code",
   "execution_count": 34,
   "metadata": {},
   "outputs": [
    {
     "data": {
      "text/plain": [
       "(40, 7081)"
      ]
     },
     "execution_count": 34,
     "metadata": {},
     "output_type": "execute_result"
    }
   ],
   "source": [
    "h.shape"
   ]
  },
  {
   "cell_type": "code",
   "execution_count": 35,
   "metadata": {},
   "outputs": [],
   "source": [
    "nmf_mat = m @ h"
   ]
  },
  {
   "cell_type": "code",
   "execution_count": 36,
   "metadata": {},
   "outputs": [
    {
     "data": {
      "text/plain": [
       "(140940, 7081)"
      ]
     },
     "execution_count": 36,
     "metadata": {},
     "output_type": "execute_result"
    }
   ],
   "source": [
    "nmf_mat.shape"
   ]
  },
  {
   "cell_type": "code",
   "execution_count": 37,
   "metadata": {},
   "outputs": [
    {
     "data": {
      "text/plain": [
       "('Kristin',\n",
       " ['True Food Kitchen',\n",
       "  'North Italia',\n",
       "  \"Portillo's Hot Dogs\",\n",
       "  \"Mastro's Ocean Club\",\n",
       "  'Sweet Republic'])"
      ]
     },
     "execution_count": 37,
     "metadata": {},
     "output_type": "execute_result"
    }
   ],
   "source": [
    "top_biz_pred('--2HUmLkcNHZp0xw6AMBPg'\n",
    "             , df_all = user_rev_biz\n",
    "             , df_mat = user_biz_collab_mat\n",
    "             , df_pred = nmf_mat\n",
    "             , n=5)"
   ]
  },
  {
   "cell_type": "code",
   "execution_count": 38,
   "metadata": {},
   "outputs": [
    {
     "data": {
      "text/plain": [
       "3360        Butters Pancakes & Café\n",
       "312378                   Wildflower\n",
       "600627                 Flower Child\n",
       "624904                 Viet Kitchen\n",
       "744479                   Wildflower\n",
       "746301     Original Breakfast House\n",
       "771054      Andreoli Italian Grocer\n",
       "838710                 Barrio Queen\n",
       "1147492        Rocket Burger & Subs\n",
       "1155989                 Rustic Cafe\n",
       "Name: biz_name, dtype: object"
      ]
     },
     "execution_count": 38,
     "metadata": {},
     "output_type": "execute_result"
    }
   ],
   "source": [
    "user_rev_biz['biz_name'].loc[user_rev_biz.user_id == '--2HUmLkcNHZp0xw6AMBPg'][0:10]"
   ]
  },
  {
   "cell_type": "code",
   "execution_count": null,
   "metadata": {},
   "outputs": [],
   "source": []
  },
  {
   "cell_type": "code",
   "execution_count": null,
   "metadata": {},
   "outputs": [],
   "source": []
  },
  {
   "cell_type": "code",
   "execution_count": null,
   "metadata": {},
   "outputs": [],
   "source": []
  },
  {
   "cell_type": "code",
   "execution_count": null,
   "metadata": {},
   "outputs": [],
   "source": []
  },
  {
   "cell_type": "code",
   "execution_count": null,
   "metadata": {},
   "outputs": [],
   "source": []
  },
  {
   "cell_type": "markdown",
   "metadata": {},
   "source": [
    "### Neural Network Recommender\n",
    "\n"
   ]
  },
  {
   "cell_type": "code",
   "execution_count": 39,
   "metadata": {},
   "outputs": [],
   "source": [
    "# from: https://www.youtube.com/watch?v=KmLJgq18r28\n",
    "# https://www.youtube.com/watch?v=4vwNkHFuZBk"
   ]
  },
  {
   "cell_type": "code",
   "execution_count": 40,
   "metadata": {},
   "outputs": [
    {
     "data": {
      "text/plain": [
       "(140940, 7081)"
      ]
     },
     "execution_count": 40,
     "metadata": {},
     "output_type": "execute_result"
    }
   ],
   "source": [
    "nmf_mat.shape"
   ]
  },
  {
   "cell_type": "code",
   "execution_count": 41,
   "metadata": {},
   "outputs": [],
   "source": [
    "user_rev_biz_scott = user_rev_biz[['user_id'\n",
    "                                   , 'user_name'\n",
    "                                   , 'business_id'\n",
    "                                   , 'biz_name'\n",
    "                                   , 'average_stars']].loc[user_rev_biz.city == 'Scottsdale']"
   ]
  },
  {
   "cell_type": "code",
   "execution_count": 42,
   "metadata": {},
   "outputs": [],
   "source": [
    "user_id_list = list(user_rev_biz_scott.user_id.value_counts().index)"
   ]
  },
  {
   "cell_type": "code",
   "execution_count": 43,
   "metadata": {},
   "outputs": [],
   "source": [
    "user_id_dict = {y: x for (x, y) in enumerate(user_id_list)}"
   ]
  },
  {
   "cell_type": "code",
   "execution_count": 44,
   "metadata": {
    "scrolled": false
   },
   "outputs": [],
   "source": [
    "#user_id_dict"
   ]
  },
  {
   "cell_type": "code",
   "execution_count": 45,
   "metadata": {},
   "outputs": [],
   "source": [
    "user_rev_biz_scott['user_num'] = user_rev_biz_scott.user_id.map(user_id_dict)"
   ]
  },
  {
   "cell_type": "code",
   "execution_count": 47,
   "metadata": {},
   "outputs": [],
   "source": [
    "# user_name_list = []\n",
    "# for i in range(len(user_id_dict)):\n",
    "#     user_name_list.append(user_rev_biz_scott.user_name.loc[user_rev_biz_scott.user_id==user_id_dict[i]].iat[0])"
   ]
  },
  {
   "cell_type": "code",
   "execution_count": null,
   "metadata": {},
   "outputs": [],
   "source": []
  },
  {
   "cell_type": "code",
   "execution_count": 48,
   "metadata": {},
   "outputs": [],
   "source": [
    "biz_id_list = list(user_rev_biz_scott.business_id.value_counts().index)"
   ]
  },
  {
   "cell_type": "code",
   "execution_count": 49,
   "metadata": {},
   "outputs": [],
   "source": [
    "biz_id_dict = {y: x for (x, y) in enumerate(biz_id_list)}"
   ]
  },
  {
   "cell_type": "code",
   "execution_count": 50,
   "metadata": {
    "scrolled": true
   },
   "outputs": [],
   "source": [
    "# biz_id_dict"
   ]
  },
  {
   "cell_type": "code",
   "execution_count": 51,
   "metadata": {},
   "outputs": [],
   "source": [
    "# biz_name_list = []\n",
    "# for i in range(len(biz_id_dict)):\n",
    "#     biz_name_list.append(user_rev_biz_scott.biz_name.loc[user_rev_biz_scott.business_id==biz_id_dict[i]].iat[0])"
   ]
  },
  {
   "cell_type": "code",
   "execution_count": 52,
   "metadata": {},
   "outputs": [],
   "source": [
    "user_rev_biz_scott['biz_num'] = user_rev_biz_scott.business_id.map(biz_id_dict)"
   ]
  },
  {
   "cell_type": "code",
   "execution_count": 53,
   "metadata": {},
   "outputs": [
    {
     "data": {
      "text/html": [
       "<div>\n",
       "<style scoped>\n",
       "    .dataframe tbody tr th:only-of-type {\n",
       "        vertical-align: middle;\n",
       "    }\n",
       "\n",
       "    .dataframe tbody tr th {\n",
       "        vertical-align: top;\n",
       "    }\n",
       "\n",
       "    .dataframe thead th {\n",
       "        text-align: right;\n",
       "    }\n",
       "</style>\n",
       "<table border=\"1\" class=\"dataframe\">\n",
       "  <thead>\n",
       "    <tr style=\"text-align: right;\">\n",
       "      <th></th>\n",
       "      <th>user_id</th>\n",
       "      <th>user_name</th>\n",
       "      <th>business_id</th>\n",
       "      <th>biz_name</th>\n",
       "      <th>average_stars</th>\n",
       "      <th>user_num</th>\n",
       "      <th>biz_num</th>\n",
       "    </tr>\n",
       "  </thead>\n",
       "  <tbody>\n",
       "    <tr>\n",
       "      <th>614</th>\n",
       "      <td>4XChL029mKr5hydo79Ljxg</td>\n",
       "      <td>Jenna</td>\n",
       "      <td>lV3qjLJF_5QujITWHZ64gg</td>\n",
       "      <td>Janet Kirkman</td>\n",
       "      <td>3.63</td>\n",
       "      <td>1906</td>\n",
       "      <td>2292</td>\n",
       "    </tr>\n",
       "    <tr>\n",
       "      <th>615</th>\n",
       "      <td>O7ojHP59iSi32uhEDUR44A</td>\n",
       "      <td>Jasmine</td>\n",
       "      <td>lV3qjLJF_5QujITWHZ64gg</td>\n",
       "      <td>Janet Kirkman</td>\n",
       "      <td>3.65</td>\n",
       "      <td>99</td>\n",
       "      <td>2292</td>\n",
       "    </tr>\n",
       "    <tr>\n",
       "      <th>616</th>\n",
       "      <td>HfmcMLJb3HMOen7VrLk0bw</td>\n",
       "      <td>Kim</td>\n",
       "      <td>lV3qjLJF_5QujITWHZ64gg</td>\n",
       "      <td>Janet Kirkman</td>\n",
       "      <td>4.79</td>\n",
       "      <td>2836</td>\n",
       "      <td>2292</td>\n",
       "    </tr>\n",
       "    <tr>\n",
       "      <th>617</th>\n",
       "      <td>BmipmKVTx37gpfPzK7eU4A</td>\n",
       "      <td>Kirstin</td>\n",
       "      <td>lV3qjLJF_5QujITWHZ64gg</td>\n",
       "      <td>Janet Kirkman</td>\n",
       "      <td>3.95</td>\n",
       "      <td>617</td>\n",
       "      <td>2292</td>\n",
       "    </tr>\n",
       "    <tr>\n",
       "      <th>618</th>\n",
       "      <td>_ILD1nTTCBjp0FdG1j2aNw</td>\n",
       "      <td>Colleen</td>\n",
       "      <td>lV3qjLJF_5QujITWHZ64gg</td>\n",
       "      <td>Janet Kirkman</td>\n",
       "      <td>4.55</td>\n",
       "      <td>122238</td>\n",
       "      <td>2292</td>\n",
       "    </tr>\n",
       "  </tbody>\n",
       "</table>\n",
       "</div>"
      ],
      "text/plain": [
       "                    user_id user_name             business_id       biz_name  \\\n",
       "614  4XChL029mKr5hydo79Ljxg     Jenna  lV3qjLJF_5QujITWHZ64gg  Janet Kirkman   \n",
       "615  O7ojHP59iSi32uhEDUR44A   Jasmine  lV3qjLJF_5QujITWHZ64gg  Janet Kirkman   \n",
       "616  HfmcMLJb3HMOen7VrLk0bw       Kim  lV3qjLJF_5QujITWHZ64gg  Janet Kirkman   \n",
       "617  BmipmKVTx37gpfPzK7eU4A   Kirstin  lV3qjLJF_5QujITWHZ64gg  Janet Kirkman   \n",
       "618  _ILD1nTTCBjp0FdG1j2aNw   Colleen  lV3qjLJF_5QujITWHZ64gg  Janet Kirkman   \n",
       "\n",
       "     average_stars  user_num  biz_num  \n",
       "614           3.63      1906     2292  \n",
       "615           3.65        99     2292  \n",
       "616           4.79      2836     2292  \n",
       "617           3.95       617     2292  \n",
       "618           4.55    122238     2292  "
      ]
     },
     "execution_count": 53,
     "metadata": {},
     "output_type": "execute_result"
    }
   ],
   "source": [
    "user_rev_biz_scott.head()"
   ]
  },
  {
   "cell_type": "code",
   "execution_count": null,
   "metadata": {},
   "outputs": [],
   "source": []
  },
  {
   "cell_type": "code",
   "execution_count": 54,
   "metadata": {},
   "outputs": [],
   "source": [
    "from sklearn.model_selection import train_test_split"
   ]
  },
  {
   "cell_type": "code",
   "execution_count": 55,
   "metadata": {},
   "outputs": [],
   "source": [
    "X = user_rev_biz_scott[['user_num', 'biz_num']]\n",
    "y = user_rev_biz_scott.average_stars\n",
    "X_train, X_test, y_train, y_test = train_test_split(X\n",
    "                                                   , y\n",
    "                                                   , test_size=0.25\n",
    "                                                   , random_state=42)"
   ]
  },
  {
   "cell_type": "code",
   "execution_count": 56,
   "metadata": {},
   "outputs": [],
   "source": [
    "n_users = user_rev_biz_scott.user_id.nunique()"
   ]
  },
  {
   "cell_type": "code",
   "execution_count": 57,
   "metadata": {},
   "outputs": [
    {
     "data": {
      "text/plain": [
       "140940"
      ]
     },
     "execution_count": 57,
     "metadata": {},
     "output_type": "execute_result"
    }
   ],
   "source": [
    "n_users"
   ]
  },
  {
   "cell_type": "code",
   "execution_count": 58,
   "metadata": {},
   "outputs": [],
   "source": [
    "n_biz = user_rev_biz_scott.business_id.nunique()"
   ]
  },
  {
   "cell_type": "code",
   "execution_count": 59,
   "metadata": {},
   "outputs": [
    {
     "data": {
      "text/plain": [
       "7081"
      ]
     },
     "execution_count": 59,
     "metadata": {},
     "output_type": "execute_result"
    }
   ],
   "source": [
    "n_biz"
   ]
  },
  {
   "cell_type": "code",
   "execution_count": 60,
   "metadata": {},
   "outputs": [],
   "source": [
    "n_factors = 10"
   ]
  },
  {
   "cell_type": "code",
   "execution_count": null,
   "metadata": {},
   "outputs": [],
   "source": []
  },
  {
   "cell_type": "code",
   "execution_count": 61,
   "metadata": {},
   "outputs": [],
   "source": [
    "from tensorflow.keras.layers import (Input\n",
    "                                     , Embedding\n",
    "                                     , concatenate\n",
    "                                     , Flatten\n",
    "                                     , Dropout\n",
    "                                     , Dense)\n",
    "from tensorflow.keras.models import Model"
   ]
  },
  {
   "cell_type": "code",
   "execution_count": null,
   "metadata": {},
   "outputs": [],
   "source": []
  },
  {
   "cell_type": "code",
   "execution_count": 62,
   "metadata": {},
   "outputs": [],
   "source": [
    "def embedding_input(name, n_in, n_out):\n",
    "    inp = Input(shape=(1,)\n",
    "               , dtype='int64'\n",
    "               , name=name)\n",
    "    return inp, Embedding(n_in\n",
    "                          , n_out\n",
    "                          , input_length = 1\n",
    "                         )(inp)"
   ]
  },
  {
   "cell_type": "code",
   "execution_count": 63,
   "metadata": {},
   "outputs": [],
   "source": [
    "user_in, u = embedding_input('user_in'\n",
    "                            , n_users\n",
    "                            , n_factors\n",
    "                            )\n",
    "biz_in, b = embedding_input('biz_in'\n",
    "                           , n_biz\n",
    "                           , n_factors\n",
    "                           )"
   ]
  },
  {
   "cell_type": "markdown",
   "metadata": {},
   "source": [
    "tf.keras.layers: https://www.tensorflow.org/api_docs/python/tf/keras/layers"
   ]
  },
  {
   "cell_type": "code",
   "execution_count": 64,
   "metadata": {},
   "outputs": [],
   "source": [
    "x = concatenate([u, b], axis=-1)\n",
    "x = Flatten()(x)\n",
    "x = Dense(12, activation = 'sigmoid')(x)\n",
    "x = Dropout(0.5)(x)\n",
    "x = Dense(1, activation = 'softmax')(x)\n",
    "nn = Model([user_in, biz_in]\n",
    "          , x)\n",
    "nn.compile(optimizer = 'sgd'\n",
    "           , loss='mse'\n",
    "           , metrics=['accuracy']\n",
    "          )"
   ]
  },
  {
   "cell_type": "code",
   "execution_count": 65,
   "metadata": {},
   "outputs": [
    {
     "name": "stdout",
     "output_type": "stream",
     "text": [
      "Model: \"model\"\n",
      "__________________________________________________________________________________________________\n",
      "Layer (type)                    Output Shape         Param #     Connected to                     \n",
      "==================================================================================================\n",
      "user_in (InputLayer)            [(None, 1)]          0                                            \n",
      "__________________________________________________________________________________________________\n",
      "biz_in (InputLayer)             [(None, 1)]          0                                            \n",
      "__________________________________________________________________________________________________\n",
      "embedding (Embedding)           (None, 1, 10)        1409400     user_in[0][0]                    \n",
      "__________________________________________________________________________________________________\n",
      "embedding_1 (Embedding)         (None, 1, 10)        70810       biz_in[0][0]                     \n",
      "__________________________________________________________________________________________________\n",
      "concatenate (Concatenate)       (None, 1, 20)        0           embedding[0][0]                  \n",
      "                                                                 embedding_1[0][0]                \n",
      "__________________________________________________________________________________________________\n",
      "flatten (Flatten)               (None, 20)           0           concatenate[0][0]                \n",
      "__________________________________________________________________________________________________\n",
      "dense (Dense)                   (None, 12)           252         flatten[0][0]                    \n",
      "__________________________________________________________________________________________________\n",
      "dropout (Dropout)               (None, 12)           0           dense[0][0]                      \n",
      "__________________________________________________________________________________________________\n",
      "dense_1 (Dense)                 (None, 1)            13          dropout[0][0]                    \n",
      "==================================================================================================\n",
      "Total params: 1,480,475\n",
      "Trainable params: 1,480,475\n",
      "Non-trainable params: 0\n",
      "__________________________________________________________________________________________________\n"
     ]
    }
   ],
   "source": [
    "nn.summary()"
   ]
  },
  {
   "cell_type": "markdown",
   "metadata": {},
   "source": [
    "tf.keras.Model: https://www.tensorflow.org/api_docs/python/tf/keras/Model"
   ]
  },
  {
   "cell_type": "code",
   "execution_count": 66,
   "metadata": {},
   "outputs": [
    {
     "name": "stdout",
     "output_type": "stream",
     "text": [
      "Train on 247369 samples, validate on 82457 samples\n",
      "Epoch 1/2\n",
      "247369/247369 [==============================] - 9s 38us/sample - loss: 8.6011 - accuracy: 0.0128 - val_loss: 9.2740 - val_accuracy: 0.0243\n",
      "Epoch 2/2\n",
      "247369/247369 [==============================] - 9s 36us/sample - loss: 8.6011 - accuracy: 0.0128 - val_loss: 9.2740 - val_accuracy: 0.0243\n"
     ]
    },
    {
     "data": {
      "text/plain": [
       "<tensorflow.python.keras.callbacks.History at 0x7f661482f890>"
      ]
     },
     "execution_count": 66,
     "metadata": {},
     "output_type": "execute_result"
    }
   ],
   "source": [
    "nn.fit([X.user_num, X.biz_num]\n",
    "      , y\n",
    "      , batch_size=32\n",
    "      , epochs = 2\n",
    "      , validation_split = 0.25)"
   ]
  },
  {
   "cell_type": "code",
   "execution_count": null,
   "metadata": {},
   "outputs": [],
   "source": []
  },
  {
   "cell_type": "code",
   "execution_count": null,
   "metadata": {},
   "outputs": [],
   "source": []
  },
  {
   "cell_type": "markdown",
   "metadata": {},
   "source": [
    "### Using Texts to Model Business to Business Similarity"
   ]
  },
  {
   "cell_type": "code",
   "execution_count": null,
   "metadata": {},
   "outputs": [],
   "source": []
  },
  {
   "cell_type": "code",
   "execution_count": 67,
   "metadata": {},
   "outputs": [],
   "source": [
    "user_rev_biz.fillna('', inplace = True)"
   ]
  },
  {
   "cell_type": "code",
   "execution_count": 68,
   "metadata": {},
   "outputs": [
    {
     "data": {
      "text/plain": [
       "user_id               0\n",
       "user_name             0\n",
       "user_review_count     0\n",
       "yelping_since         0\n",
       "useful_user_sent      0\n",
       "funny_user_sent       0\n",
       "cool_user_sent        0\n",
       "elite                 0\n",
       "friends               0\n",
       "fans                  0\n",
       "average_stars         0\n",
       "compliment_hot        0\n",
       "compliment_more       0\n",
       "compliment_profile    0\n",
       "compliment_cute       0\n",
       "compliment_list       0\n",
       "compliment_note       0\n",
       "compliment_plain      0\n",
       "compliment_cool       0\n",
       "compliment_funny      0\n",
       "compliment_writer     0\n",
       "compliment_photos     0\n",
       "review_id             0\n",
       "business_id           0\n",
       "stars_rev             0\n",
       "useful_rev            0\n",
       "funny_rev             0\n",
       "cool_rev              0\n",
       "rev_text              0\n",
       "date                  0\n",
       "biz_name              0\n",
       "city                  0\n",
       "biz_star              0\n",
       "biz_review_count      0\n",
       "attributes            0\n",
       "categories            0\n",
       "dtype: int64"
      ]
     },
     "execution_count": 68,
     "metadata": {},
     "output_type": "execute_result"
    }
   ],
   "source": [
    "user_rev_biz.isna().sum()"
   ]
  },
  {
   "cell_type": "code",
   "execution_count": 69,
   "metadata": {},
   "outputs": [],
   "source": [
    "# combine re_text and categories\n",
    "def combine(rows):\n",
    "    return rows['rev_text']+' '+rows['categories']"
   ]
  },
  {
   "cell_type": "code",
   "execution_count": 70,
   "metadata": {
    "scrolled": true
   },
   "outputs": [],
   "source": [
    "user_rev_biz['text'] = user_rev_biz.apply(combine\n",
    "                                          , axis = 1)"
   ]
  },
  {
   "cell_type": "code",
   "execution_count": 71,
   "metadata": {},
   "outputs": [],
   "source": [
    "from sklearn.feature_extraction.text import CountVectorizer"
   ]
  },
  {
   "cell_type": "code",
   "execution_count": 72,
   "metadata": {},
   "outputs": [],
   "source": [
    "user_rev_biz_scott = user_rev_biz.loc[user_rev_biz.city == 'Scottsdale']"
   ]
  },
  {
   "cell_type": "code",
   "execution_count": 73,
   "metadata": {},
   "outputs": [
    {
     "data": {
      "text/plain": [
       "140940"
      ]
     },
     "execution_count": 73,
     "metadata": {},
     "output_type": "execute_result"
    }
   ],
   "source": [
    "len(user_rev_biz_scott.user_id.value_counts())"
   ]
  },
  {
   "cell_type": "code",
   "execution_count": 74,
   "metadata": {},
   "outputs": [],
   "source": [
    "urbs_cond = user_rev_biz_scott.drop_duplicates(subset = 'business_id')"
   ]
  },
  {
   "cell_type": "code",
   "execution_count": 75,
   "metadata": {},
   "outputs": [
    {
     "data": {
      "text/plain": [
       "(7081, 37)"
      ]
     },
     "execution_count": 75,
     "metadata": {},
     "output_type": "execute_result"
    }
   ],
   "source": [
    "urbs_cond.shape"
   ]
  },
  {
   "cell_type": "code",
   "execution_count": 76,
   "metadata": {},
   "outputs": [],
   "source": [
    "count_matrix = CountVectorizer().fit_transform(urbs_cond['text'])"
   ]
  },
  {
   "cell_type": "code",
   "execution_count": 77,
   "metadata": {},
   "outputs": [],
   "source": [
    "from sklearn.metrics.pairwise import cosine_similarity"
   ]
  },
  {
   "cell_type": "code",
   "execution_count": 78,
   "metadata": {},
   "outputs": [],
   "source": [
    "cosine_sim = cosine_similarity(count_matrix, count_matrix)"
   ]
  },
  {
   "cell_type": "code",
   "execution_count": 79,
   "metadata": {},
   "outputs": [
    {
     "data": {
      "text/plain": [
       "(7081, 7081)"
      ]
     },
     "execution_count": 79,
     "metadata": {},
     "output_type": "execute_result"
    }
   ],
   "source": [
    "cosine_sim.shape"
   ]
  },
  {
   "cell_type": "code",
   "execution_count": 80,
   "metadata": {},
   "outputs": [
    {
     "data": {
      "text/plain": [
       "array([3617, 3450, 6212, 2862, 3694])"
      ]
     },
     "execution_count": 80,
     "metadata": {},
     "output_type": "execute_result"
    }
   ],
   "source": [
    "biz = cosine_sim[0].argsort()[-6:][::-1][1:]\n",
    "biz"
   ]
  },
  {
   "cell_type": "code",
   "execution_count": 81,
   "metadata": {},
   "outputs": [],
   "source": [
    "biz_perc = cosine_sim[0][biz]"
   ]
  },
  {
   "cell_type": "code",
   "execution_count": 82,
   "metadata": {},
   "outputs": [
    {
     "data": {
      "text/plain": [
       "array([0.51604396, 0.4233622 , 0.42140704, 0.41996103, 0.41851107])"
      ]
     },
     "execution_count": 82,
     "metadata": {},
     "output_type": "execute_result"
    }
   ],
   "source": [
    "biz_perc"
   ]
  },
  {
   "cell_type": "code",
   "execution_count": 83,
   "metadata": {},
   "outputs": [],
   "source": [
    "biz_dict = {x: y for x in urbs_cond.business_id for y in urbs_cond.biz_name}"
   ]
  },
  {
   "cell_type": "code",
   "execution_count": 84,
   "metadata": {
    "scrolled": true
   },
   "outputs": [
    {
     "data": {
      "text/plain": [
       "'Commercial Waste Company'"
      ]
     },
     "execution_count": 84,
     "metadata": {},
     "output_type": "execute_result"
    }
   ],
   "source": [
    "biz_dict['lV3qjLJF_5QujITWHZ64gg']"
   ]
  },
  {
   "cell_type": "code",
   "execution_count": 85,
   "metadata": {},
   "outputs": [
    {
     "data": {
      "text/plain": [
       "7081"
      ]
     },
     "execution_count": 85,
     "metadata": {},
     "output_type": "execute_result"
    }
   ],
   "source": [
    "len(biz_dict)"
   ]
  },
  {
   "cell_type": "code",
   "execution_count": 86,
   "metadata": {},
   "outputs": [],
   "source": [
    "biz_df = urbs_cond[['business_id', 'biz_name']]"
   ]
  },
  {
   "cell_type": "code",
   "execution_count": 87,
   "metadata": {},
   "outputs": [
    {
     "data": {
      "text/html": [
       "<div>\n",
       "<style scoped>\n",
       "    .dataframe tbody tr th:only-of-type {\n",
       "        vertical-align: middle;\n",
       "    }\n",
       "\n",
       "    .dataframe tbody tr th {\n",
       "        vertical-align: top;\n",
       "    }\n",
       "\n",
       "    .dataframe thead th {\n",
       "        text-align: right;\n",
       "    }\n",
       "</style>\n",
       "<table border=\"1\" class=\"dataframe\">\n",
       "  <thead>\n",
       "    <tr style=\"text-align: right;\">\n",
       "      <th></th>\n",
       "      <th>business_id</th>\n",
       "      <th>biz_name</th>\n",
       "    </tr>\n",
       "  </thead>\n",
       "  <tbody>\n",
       "    <tr>\n",
       "      <th>614</th>\n",
       "      <td>lV3qjLJF_5QujITWHZ64gg</td>\n",
       "      <td>Janet Kirkman</td>\n",
       "    </tr>\n",
       "    <tr>\n",
       "      <th>637</th>\n",
       "      <td>p-8AMN9Q0qwym-3Pdle20Q</td>\n",
       "      <td>Pita Jungle</td>\n",
       "    </tr>\n",
       "    <tr>\n",
       "      <th>1125</th>\n",
       "      <td>-LRlx2j9_LB3evsRRcC9MA</td>\n",
       "      <td>Kaibab Animal Hospital</td>\n",
       "    </tr>\n",
       "    <tr>\n",
       "      <th>1197</th>\n",
       "      <td>9E1q2uEMd881wnruicNTUA</td>\n",
       "      <td>Buffalo Wild Wings</td>\n",
       "    </tr>\n",
       "    <tr>\n",
       "      <th>1340</th>\n",
       "      <td>WluvnTRuDWnWDDm0YqOOYQ</td>\n",
       "      <td>Cobblestone Auto Spa</td>\n",
       "    </tr>\n",
       "    <tr>\n",
       "      <th>...</th>\n",
       "      <td>...</td>\n",
       "      <td>...</td>\n",
       "    </tr>\n",
       "    <tr>\n",
       "      <th>6685321</th>\n",
       "      <td>bZ9qEOtg80nrsAbwYDNNXw</td>\n",
       "      <td>Merchants Benefit Admin</td>\n",
       "    </tr>\n",
       "    <tr>\n",
       "      <th>6685336</th>\n",
       "      <td>9UsSHoqWdBZ1ec32rofuoA</td>\n",
       "      <td>Caliber Match</td>\n",
       "    </tr>\n",
       "    <tr>\n",
       "      <th>6685351</th>\n",
       "      <td>5HPBIG3BVMIfy4_-D9zPIQ</td>\n",
       "      <td>Meng Chinese Academy</td>\n",
       "    </tr>\n",
       "    <tr>\n",
       "      <th>6685804</th>\n",
       "      <td>k-qjgxB45hV0627P6KRYJQ</td>\n",
       "      <td>Classified Realty</td>\n",
       "    </tr>\n",
       "    <tr>\n",
       "      <th>6685868</th>\n",
       "      <td>a4PI8XlT_nXrH93vAo28UQ</td>\n",
       "      <td>Commercial Waste Company</td>\n",
       "    </tr>\n",
       "  </tbody>\n",
       "</table>\n",
       "<p>7081 rows × 2 columns</p>\n",
       "</div>"
      ],
      "text/plain": [
       "                    business_id                  biz_name\n",
       "614      lV3qjLJF_5QujITWHZ64gg             Janet Kirkman\n",
       "637      p-8AMN9Q0qwym-3Pdle20Q               Pita Jungle\n",
       "1125     -LRlx2j9_LB3evsRRcC9MA    Kaibab Animal Hospital\n",
       "1197     9E1q2uEMd881wnruicNTUA        Buffalo Wild Wings\n",
       "1340     WluvnTRuDWnWDDm0YqOOYQ      Cobblestone Auto Spa\n",
       "...                         ...                       ...\n",
       "6685321  bZ9qEOtg80nrsAbwYDNNXw   Merchants Benefit Admin\n",
       "6685336  9UsSHoqWdBZ1ec32rofuoA             Caliber Match\n",
       "6685351  5HPBIG3BVMIfy4_-D9zPIQ      Meng Chinese Academy\n",
       "6685804  k-qjgxB45hV0627P6KRYJQ         Classified Realty\n",
       "6685868  a4PI8XlT_nXrH93vAo28UQ  Commercial Waste Company\n",
       "\n",
       "[7081 rows x 2 columns]"
      ]
     },
     "execution_count": 87,
     "metadata": {},
     "output_type": "execute_result"
    }
   ],
   "source": [
    "biz_df"
   ]
  },
  {
   "cell_type": "code",
   "execution_count": 88,
   "metadata": {},
   "outputs": [
    {
     "name": "stdout",
     "output_type": "stream",
     "text": [
      "Ferguson Bath, Kitchen & Lighting Gallery\n",
      "Scottsdale Rooter Plumbers\n",
      "Troon North Custom Tailor\n",
      "The Flower Cart\n",
      "Gainey Fabricare Cleaners\n"
     ]
    }
   ],
   "source": [
    "for idx in biz:\n",
    "    print(biz_df.biz_name.iloc[idx])"
   ]
  },
  {
   "cell_type": "code",
   "execution_count": null,
   "metadata": {},
   "outputs": [],
   "source": []
  },
  {
   "cell_type": "code",
   "execution_count": null,
   "metadata": {},
   "outputs": [],
   "source": []
  },
  {
   "cell_type": "code",
   "execution_count": null,
   "metadata": {},
   "outputs": [],
   "source": []
  },
  {
   "cell_type": "code",
   "execution_count": null,
   "metadata": {},
   "outputs": [],
   "source": []
  },
  {
   "cell_type": "code",
   "execution_count": null,
   "metadata": {},
   "outputs": [],
   "source": []
  },
  {
   "cell_type": "code",
   "execution_count": null,
   "metadata": {},
   "outputs": [],
   "source": []
  },
  {
   "cell_type": "code",
   "execution_count": null,
   "metadata": {},
   "outputs": [],
   "source": []
  },
  {
   "cell_type": "code",
   "execution_count": null,
   "metadata": {},
   "outputs": [],
   "source": []
  },
  {
   "cell_type": "code",
   "execution_count": null,
   "metadata": {},
   "outputs": [],
   "source": []
  },
  {
   "cell_type": "code",
   "execution_count": null,
   "metadata": {},
   "outputs": [],
   "source": []
  },
  {
   "cell_type": "code",
   "execution_count": null,
   "metadata": {},
   "outputs": [],
   "source": []
  },
  {
   "cell_type": "code",
   "execution_count": null,
   "metadata": {},
   "outputs": [],
   "source": []
  },
  {
   "cell_type": "code",
   "execution_count": null,
   "metadata": {},
   "outputs": [],
   "source": []
  },
  {
   "cell_type": "code",
   "execution_count": null,
   "metadata": {},
   "outputs": [],
   "source": []
  },
  {
   "cell_type": "code",
   "execution_count": null,
   "metadata": {},
   "outputs": [],
   "source": []
  }
 ],
 "metadata": {
  "kernelspec": {
   "display_name": "Python 3",
   "language": "python",
   "name": "python3"
  },
  "language_info": {
   "codemirror_mode": {
    "name": "ipython",
    "version": 3
   },
   "file_extension": ".py",
   "mimetype": "text/x-python",
   "name": "python",
   "nbconvert_exporter": "python",
   "pygments_lexer": "ipython3",
   "version": "3.7.5"
  }
 },
 "nbformat": 4,
 "nbformat_minor": 4
}
