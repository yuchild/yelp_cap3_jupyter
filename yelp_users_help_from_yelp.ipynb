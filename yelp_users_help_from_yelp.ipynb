{
 "cells": [
  {
   "cell_type": "code",
   "execution_count": 1,
   "metadata": {},
   "outputs": [],
   "source": [
    "import pandas as pd\n",
    "import numpy as np\n",
    "from sklearn.model_selection import train_test_split\n",
    "import matplotlib.pyplot as plt\n",
    "import cv2\n",
    "\n",
    "import tensorflow as tf\n",
    "from tensorflow.keras.preprocessing import image\n",
    "from scipy.sparse.linalg import svds"
   ]
  },
  {
   "cell_type": "code",
   "execution_count": 2,
   "metadata": {},
   "outputs": [],
   "source": [
    "%load_ext autoreload\n",
    "%autoreload 2"
   ]
  },
  {
   "cell_type": "code",
   "execution_count": 3,
   "metadata": {},
   "outputs": [],
   "source": [
    "from src.models import (load_data\n",
    "                        , data_summary\n",
    "                        , combine_tables\n",
    "                        , collab_mat\n",
    "                        , svd_mat\n",
    "                        , top_biz_pred\n",
    "                        , surprise_validate\n",
    "                        , NMF_Mat\n",
    "                       )"
   ]
  },
  {
   "cell_type": "code",
   "execution_count": 4,
   "metadata": {},
   "outputs": [],
   "source": [
    "biz_df, rev_df, ckin_df, pho_df, tip_df, user_df = load_data()"
   ]
  },
  {
   "cell_type": "code",
   "execution_count": 5,
   "metadata": {},
   "outputs": [
    {
     "data": {
      "text/html": [
       "<style  type=\"text/css\" >\n",
       "</style><table id=\"T_17ceaa5a_588f_11ea_a5ad_756f362ee500\" ><thead>    <tr>        <th class=\"col_heading level0 col0\" >name</th>        <th class=\"col_heading level0 col1\" >rows</th>        <th class=\"col_heading level0 col2\" >colums</th>    </tr></thead><tbody>\n",
       "                <tr>\n",
       "                                <td id=\"T_17ceaa5a_588f_11ea_a5ad_756f362ee500row0_col0\" class=\"data row0 col0\" >business</td>\n",
       "                        <td id=\"T_17ceaa5a_588f_11ea_a5ad_756f362ee500row0_col1\" class=\"data row0 col1\" >192609</td>\n",
       "                        <td id=\"T_17ceaa5a_588f_11ea_a5ad_756f362ee500row0_col2\" class=\"data row0 col2\" >14</td>\n",
       "            </tr>\n",
       "            <tr>\n",
       "                                <td id=\"T_17ceaa5a_588f_11ea_a5ad_756f362ee500row1_col0\" class=\"data row1 col0\" >review</td>\n",
       "                        <td id=\"T_17ceaa5a_588f_11ea_a5ad_756f362ee500row1_col1\" class=\"data row1 col1\" >6685900</td>\n",
       "                        <td id=\"T_17ceaa5a_588f_11ea_a5ad_756f362ee500row1_col2\" class=\"data row1 col2\" >9</td>\n",
       "            </tr>\n",
       "            <tr>\n",
       "                                <td id=\"T_17ceaa5a_588f_11ea_a5ad_756f362ee500row2_col0\" class=\"data row2 col0\" >checkin</td>\n",
       "                        <td id=\"T_17ceaa5a_588f_11ea_a5ad_756f362ee500row2_col1\" class=\"data row2 col1\" >161950</td>\n",
       "                        <td id=\"T_17ceaa5a_588f_11ea_a5ad_756f362ee500row2_col2\" class=\"data row2 col2\" >2</td>\n",
       "            </tr>\n",
       "            <tr>\n",
       "                                <td id=\"T_17ceaa5a_588f_11ea_a5ad_756f362ee500row3_col0\" class=\"data row3 col0\" >photo</td>\n",
       "                        <td id=\"T_17ceaa5a_588f_11ea_a5ad_756f362ee500row3_col1\" class=\"data row3 col1\" >200000</td>\n",
       "                        <td id=\"T_17ceaa5a_588f_11ea_a5ad_756f362ee500row3_col2\" class=\"data row3 col2\" >4</td>\n",
       "            </tr>\n",
       "            <tr>\n",
       "                                <td id=\"T_17ceaa5a_588f_11ea_a5ad_756f362ee500row4_col0\" class=\"data row4 col0\" >tip</td>\n",
       "                        <td id=\"T_17ceaa5a_588f_11ea_a5ad_756f362ee500row4_col1\" class=\"data row4 col1\" >1223094</td>\n",
       "                        <td id=\"T_17ceaa5a_588f_11ea_a5ad_756f362ee500row4_col2\" class=\"data row4 col2\" >5</td>\n",
       "            </tr>\n",
       "            <tr>\n",
       "                                <td id=\"T_17ceaa5a_588f_11ea_a5ad_756f362ee500row5_col0\" class=\"data row5 col0\" >user</td>\n",
       "                        <td id=\"T_17ceaa5a_588f_11ea_a5ad_756f362ee500row5_col1\" class=\"data row5 col1\" >1637138</td>\n",
       "                        <td id=\"T_17ceaa5a_588f_11ea_a5ad_756f362ee500row5_col2\" class=\"data row5 col2\" >22</td>\n",
       "            </tr>\n",
       "    </tbody></table>"
      ],
      "text/plain": [
       "<pandas.io.formats.style.Styler at 0x7f4e0ead6d90>"
      ]
     },
     "execution_count": 5,
     "metadata": {},
     "output_type": "execute_result"
    }
   ],
   "source": [
    "data_summary(biz_df\n",
    "             , rev_df\n",
    "             , ckin_df\n",
    "             , pho_df\n",
    "             , tip_df\n",
    "             , user_df)"
   ]
  },
  {
   "cell_type": "code",
   "execution_count": 6,
   "metadata": {},
   "outputs": [],
   "source": [
    "user_rev_biz = combine_tables(user_df\n",
    "                              , rev_df\n",
    "                              , biz_df)"
   ]
  },
  {
   "cell_type": "code",
   "execution_count": 7,
   "metadata": {},
   "outputs": [
    {
     "data": {
      "text/plain": [
       "Las Vegas     1757375\n",
       "Phoenix        645716\n",
       "Toronto        434349\n",
       "Scottsdale     329826\n",
       "Charlotte      273989\n",
       "Name: city, dtype: int64"
      ]
     },
     "execution_count": 7,
     "metadata": {},
     "output_type": "execute_result"
    }
   ],
   "source": [
    "user_rev_biz.city.value_counts()[0:5]"
   ]
  },
  {
   "cell_type": "code",
   "execution_count": 8,
   "metadata": {},
   "outputs": [],
   "source": [
    "user_biz_collab_mat = collab_mat('Scottsdale'\n",
    "                                 , user_rev_biz)"
   ]
  },
  {
   "cell_type": "code",
   "execution_count": 9,
   "metadata": {},
   "outputs": [
    {
     "data": {
      "text/plain": [
       "(140940, 7081)"
      ]
     },
     "execution_count": 9,
     "metadata": {},
     "output_type": "execute_result"
    }
   ],
   "source": [
    "user_biz_collab_mat.shape"
   ]
  },
  {
   "cell_type": "markdown",
   "metadata": {},
   "source": [
    "### SVD"
   ]
  },
  {
   "cell_type": "code",
   "execution_count": 10,
   "metadata": {},
   "outputs": [],
   "source": [
    "sigma, user_biz_predictions = svd_mat(user_biz_collab_mat, k=40)"
   ]
  },
  {
   "cell_type": "markdown",
   "metadata": {},
   "source": [
    "### Precictions"
   ]
  },
  {
   "cell_type": "code",
   "execution_count": 11,
   "metadata": {},
   "outputs": [
    {
     "data": {
      "text/plain": [
       "('Kristin',\n",
       " ['True Food Kitchen',\n",
       "  'Cafe Monarch',\n",
       "  'The Herb Box',\n",
       "  'Sweet Republic',\n",
       "  'Talking Stick Resort'])"
      ]
     },
     "execution_count": 11,
     "metadata": {},
     "output_type": "execute_result"
    }
   ],
   "source": [
    "top_biz_pred('--2HUmLkcNHZp0xw6AMBPg'\n",
    "             , df_all = user_rev_biz\n",
    "             , df_mat = user_biz_collab_mat\n",
    "             , df_pred = user_biz_predictions\n",
    "             , n=5)"
   ]
  },
  {
   "cell_type": "code",
   "execution_count": 12,
   "metadata": {},
   "outputs": [
    {
     "data": {
      "text/plain": [
       "3360      Butters Pancakes & Café\n",
       "312378                 Wildflower\n",
       "600627               Flower Child\n",
       "624904               Viet Kitchen\n",
       "744479                 Wildflower\n",
       "Name: biz_name, dtype: object"
      ]
     },
     "execution_count": 12,
     "metadata": {},
     "output_type": "execute_result"
    }
   ],
   "source": [
    "user_rev_biz['biz_name'].loc[user_rev_biz.user_id == '--2HUmLkcNHZp0xw6AMBPg'][0:5]"
   ]
  },
  {
   "cell_type": "markdown",
   "metadata": {},
   "source": [
    "### Validation"
   ]
  },
  {
   "cell_type": "code",
   "execution_count": 13,
   "metadata": {},
   "outputs": [],
   "source": [
    "from surprise import (SVD\n",
    "                      , SVDpp\n",
    "                      , SlopeOne\n",
    "                      , NMF\n",
    "                      , NormalPredictor\n",
    "                      , KNNBaseline\n",
    "                      , KNNBasic\n",
    "                      , KNNWithMeans\n",
    "                      , KNNWithZScore\n",
    "                      , BaselineOnly\n",
    "                      , CoClustering)\n",
    "from surprise import NormalPredictor\n",
    "from surprise import Dataset\n",
    "from surprise import Reader\n",
    "from surprise.model_selection import cross_validate, train_test_split\n",
    "from surprise import accuracy"
   ]
  },
  {
   "cell_type": "code",
   "execution_count": 14,
   "metadata": {},
   "outputs": [],
   "source": [
    "data = user_rev_biz[['user_id'\n",
    "                    , 'business_id'\n",
    "                    , 'average_stars']].loc[user_rev_biz.city == 'Scottsdale']\n"
   ]
  },
  {
   "cell_type": "code",
   "execution_count": 15,
   "metadata": {},
   "outputs": [
    {
     "data": {
      "text/plain": [
       "(329826, 3)"
      ]
     },
     "execution_count": 15,
     "metadata": {},
     "output_type": "execute_result"
    }
   ],
   "source": [
    "data.shape"
   ]
  },
  {
   "cell_type": "code",
   "execution_count": 16,
   "metadata": {},
   "outputs": [
    {
     "data": {
      "text/plain": [
       "140940"
      ]
     },
     "execution_count": 16,
     "metadata": {},
     "output_type": "execute_result"
    }
   ],
   "source": [
    "len(data.user_id.unique())"
   ]
  },
  {
   "cell_type": "code",
   "execution_count": 17,
   "metadata": {},
   "outputs": [
    {
     "data": {
      "text/plain": [
       "7081"
      ]
     },
     "execution_count": 17,
     "metadata": {},
     "output_type": "execute_result"
    }
   ],
   "source": [
    "len(data.business_id.unique())"
   ]
  },
  {
   "cell_type": "code",
   "execution_count": 18,
   "metadata": {},
   "outputs": [],
   "source": [
    "reader = Reader()\n",
    "data = Dataset.load_from_df(data, reader)"
   ]
  },
  {
   "cell_type": "code",
   "execution_count": 19,
   "metadata": {},
   "outputs": [],
   "source": [
    "trainset, testset = train_test_split(data, test_size = 0.25)"
   ]
  },
  {
   "cell_type": "code",
   "execution_count": 20,
   "metadata": {},
   "outputs": [
    {
     "data": {
      "text/plain": [
       "<surprise.prediction_algorithms.matrix_factorization.SVD at 0x7f4e0e820790>"
      ]
     },
     "execution_count": 20,
     "metadata": {},
     "output_type": "execute_result"
    }
   ],
   "source": [
    "algo = SVD()\n",
    "algo.fit(trainset)"
   ]
  },
  {
   "cell_type": "code",
   "execution_count": 21,
   "metadata": {},
   "outputs": [],
   "source": [
    "predictions = algo.test(testset)"
   ]
  },
  {
   "cell_type": "code",
   "execution_count": 22,
   "metadata": {},
   "outputs": [
    {
     "name": "stdout",
     "output_type": "stream",
     "text": [
      "RMSE: 0.7041\n"
     ]
    },
    {
     "data": {
      "text/plain": [
       "0.7040508827856145"
      ]
     },
     "execution_count": 22,
     "metadata": {},
     "output_type": "execute_result"
    }
   ],
   "source": [
    "accuracy.rmse(predictions)"
   ]
  },
  {
   "cell_type": "code",
   "execution_count": 23,
   "metadata": {},
   "outputs": [],
   "source": [
    "svd_results = cross_validate(SVD(), data, cv = 5)"
   ]
  },
  {
   "cell_type": "code",
   "execution_count": 24,
   "metadata": {},
   "outputs": [
    {
     "data": {
      "text/plain": [
       "array([0.69884866, 0.70561836, 0.70258484, 0.69554777, 0.69757561])"
      ]
     },
     "execution_count": 24,
     "metadata": {},
     "output_type": "execute_result"
    }
   ],
   "source": [
    "svd_results['test_rmse']"
   ]
  },
  {
   "cell_type": "code",
   "execution_count": 25,
   "metadata": {},
   "outputs": [
    {
     "name": "stdout",
     "output_type": "stream",
     "text": [
      "Evaluating RMSE of algorithm SVD on 5 split(s).\n",
      "\n",
      "                  Fold 1  Fold 2  Fold 3  Fold 4  Fold 5  Mean    Std     \n",
      "RMSE (testset)    0.6975  0.7004  0.6985  0.7009  0.6987  0.6992  0.0012  \n",
      "Fit time          14.11   14.43   13.55   14.46   13.62   14.03   0.39    \n",
      "Test time         0.50    0.44    0.83    0.87    0.40    0.61    0.20    \n",
      "Evaluating RMSE of algorithm NMF on 5 split(s).\n",
      "\n",
      "                  Fold 1  Fold 2  Fold 3  Fold 4  Fold 5  Mean    Std     \n",
      "RMSE (testset)    0.6416  0.6402  0.6391  0.6393  0.6360  0.6393  0.0018  \n",
      "Fit time          21.65   19.56   20.62   26.83   26.59   23.05   3.06    \n",
      "Test time         0.36    0.33    0.40    0.49    0.41    0.40    0.05    \n",
      "Evaluating RMSE of algorithm NormalPredictor on 5 split(s).\n",
      "\n",
      "                  Fold 1  Fold 2  Fold 3  Fold 4  Fold 5  Mean    Std     \n",
      "RMSE (testset)    1.1032  1.0972  1.0994  1.1071  1.1022  1.1018  0.0034  \n",
      "Fit time          0.47    0.63    0.63    0.65    0.64    0.60    0.07    \n",
      "Test time         0.52    0.48    0.48    0.49    1.18    0.63    0.28    \n",
      "Evaluating RMSE of algorithm CoClustering on 5 split(s).\n",
      "\n",
      "                  Fold 1  Fold 2  Fold 3  Fold 4  Fold 5  Mean    Std     \n",
      "RMSE (testset)    0.8051  0.8011  0.7979  0.8047  0.8012  0.8020  0.0027  \n",
      "Fit time          17.85   17.83   18.96   17.75   17.56   17.99   0.49    \n",
      "Test time         1.22    0.31    0.38    0.37    1.21    0.70    0.42    \n",
      "Estimating biases using als...\n",
      "Estimating biases using als...\n",
      "Estimating biases using als...\n",
      "Estimating biases using als...\n",
      "Estimating biases using als...\n",
      "Evaluating RMSE of algorithm BaselineOnly on 5 split(s).\n",
      "\n",
      "                  Fold 1  Fold 2  Fold 3  Fold 4  Fold 5  Mean    Std     \n",
      "RMSE (testset)    0.7226  0.7201  0.7181  0.7118  0.7190  0.7183  0.0036  \n",
      "Fit time          2.00    2.07    2.16    2.14    2.18    2.11    0.07    \n",
      "Test time         0.35    0.35    0.35    0.35    0.35    0.35    0.00    \n"
     ]
    },
    {
     "data": {
      "text/html": [
       "<div>\n",
       "<style scoped>\n",
       "    .dataframe tbody tr th:only-of-type {\n",
       "        vertical-align: middle;\n",
       "    }\n",
       "\n",
       "    .dataframe tbody tr th {\n",
       "        vertical-align: top;\n",
       "    }\n",
       "\n",
       "    .dataframe thead th {\n",
       "        text-align: right;\n",
       "    }\n",
       "</style>\n",
       "<table border=\"1\" class=\"dataframe\">\n",
       "  <thead>\n",
       "    <tr style=\"text-align: right;\">\n",
       "      <th></th>\n",
       "      <th>test_rmse</th>\n",
       "      <th>fit_time</th>\n",
       "      <th>test_time</th>\n",
       "    </tr>\n",
       "    <tr>\n",
       "      <th>Algorithm</th>\n",
       "      <th></th>\n",
       "      <th></th>\n",
       "      <th></th>\n",
       "    </tr>\n",
       "  </thead>\n",
       "  <tbody>\n",
       "    <tr>\n",
       "      <th>NMF</th>\n",
       "      <td>0.639269</td>\n",
       "      <td>23.050251</td>\n",
       "      <td>0.397056</td>\n",
       "    </tr>\n",
       "    <tr>\n",
       "      <th>SVD</th>\n",
       "      <td>0.699194</td>\n",
       "      <td>14.034492</td>\n",
       "      <td>0.606469</td>\n",
       "    </tr>\n",
       "    <tr>\n",
       "      <th>BaselineOnly</th>\n",
       "      <td>0.718313</td>\n",
       "      <td>2.109087</td>\n",
       "      <td>0.350295</td>\n",
       "    </tr>\n",
       "    <tr>\n",
       "      <th>CoClustering</th>\n",
       "      <td>0.802002</td>\n",
       "      <td>17.989719</td>\n",
       "      <td>0.700436</td>\n",
       "    </tr>\n",
       "    <tr>\n",
       "      <th>NormalPredictor</th>\n",
       "      <td>1.101808</td>\n",
       "      <td>0.603883</td>\n",
       "      <td>0.630200</td>\n",
       "    </tr>\n",
       "  </tbody>\n",
       "</table>\n",
       "</div>"
      ],
      "text/plain": [
       "                 test_rmse   fit_time  test_time\n",
       "Algorithm                                       \n",
       "NMF               0.639269  23.050251   0.397056\n",
       "SVD               0.699194  14.034492   0.606469\n",
       "BaselineOnly      0.718313   2.109087   0.350295\n",
       "CoClustering      0.802002  17.989719   0.700436\n",
       "NormalPredictor   1.101808   0.603883   0.630200"
      ]
     },
     "execution_count": 25,
     "metadata": {},
     "output_type": "execute_result"
    }
   ],
   "source": [
    "\n",
    "benchmark = []\n",
    "# Iterate over all algorithms\n",
    "for algorithm in [SVD()\n",
    "                  , NMF()\n",
    "                  , NormalPredictor()\n",
    "                  , CoClustering()\n",
    "                  , BaselineOnly()\n",
    "                 ]:\n",
    "    # Perform cross validation\n",
    "    results = cross_validate(algorithm\n",
    "                             , data\n",
    "                             , measures=['RMSE']\n",
    "                             , cv=5\n",
    "                             , verbose=True)\n",
    "    \n",
    "    # Get results & append algorithm name\n",
    "    tmp = pd.DataFrame.from_dict(results).mean(axis=0)\n",
    "    tmp = tmp.append(pd.Series([str(algorithm).split(' ')[0].split('.')[-1]], index=['Algorithm']))\n",
    "    benchmark.append(tmp)\n",
    "    \n",
    "pd.DataFrame(benchmark).set_index('Algorithm').sort_values('test_rmse')"
   ]
  },
  {
   "cell_type": "code",
   "execution_count": null,
   "metadata": {},
   "outputs": [],
   "source": []
  },
  {
   "cell_type": "code",
   "execution_count": null,
   "metadata": {},
   "outputs": [],
   "source": []
  },
  {
   "cell_type": "markdown",
   "metadata": {},
   "source": [
    "### NMF"
   ]
  },
  {
   "cell_type": "code",
   "execution_count": 26,
   "metadata": {},
   "outputs": [],
   "source": [
    "NMF_results = cross_validate(NMF(), data, cv = 5)"
   ]
  },
  {
   "cell_type": "code",
   "execution_count": 27,
   "metadata": {},
   "outputs": [
    {
     "data": {
      "text/plain": [
       "array([0.63116312, 0.63708406, 0.63967966, 0.64178033, 0.64351751])"
      ]
     },
     "execution_count": 27,
     "metadata": {},
     "output_type": "execute_result"
    }
   ],
   "source": [
    "NMF_results['test_rmse']"
   ]
  },
  {
   "cell_type": "code",
   "execution_count": 28,
   "metadata": {},
   "outputs": [],
   "source": [
    "from sklearn.decomposition import NMF"
   ]
  },
  {
   "cell_type": "code",
   "execution_count": 29,
   "metadata": {},
   "outputs": [],
   "source": [
    "model_nmf = NMF(n_components = 40\n",
    "               , init = 'random'\n",
    "               , random_state = 0)"
   ]
  },
  {
   "cell_type": "code",
   "execution_count": 30,
   "metadata": {},
   "outputs": [],
   "source": [
    "m = model_nmf.fit_transform(user_biz_collab_mat)"
   ]
  },
  {
   "cell_type": "code",
   "execution_count": 31,
   "metadata": {},
   "outputs": [
    {
     "data": {
      "text/plain": [
       "(140940, 40)"
      ]
     },
     "execution_count": 31,
     "metadata": {},
     "output_type": "execute_result"
    }
   ],
   "source": [
    "m.shape"
   ]
  },
  {
   "cell_type": "code",
   "execution_count": 32,
   "metadata": {},
   "outputs": [],
   "source": [
    "h = model_nmf.components_"
   ]
  },
  {
   "cell_type": "code",
   "execution_count": 33,
   "metadata": {},
   "outputs": [
    {
     "data": {
      "text/plain": [
       "(40, 7081)"
      ]
     },
     "execution_count": 33,
     "metadata": {},
     "output_type": "execute_result"
    }
   ],
   "source": [
    "h.shape"
   ]
  },
  {
   "cell_type": "code",
   "execution_count": 34,
   "metadata": {},
   "outputs": [],
   "source": [
    "nmf_mat = m @ h"
   ]
  },
  {
   "cell_type": "code",
   "execution_count": 35,
   "metadata": {},
   "outputs": [
    {
     "data": {
      "text/plain": [
       "(140940, 7081)"
      ]
     },
     "execution_count": 35,
     "metadata": {},
     "output_type": "execute_result"
    }
   ],
   "source": [
    "nmf_mat.shape"
   ]
  },
  {
   "cell_type": "code",
   "execution_count": 36,
   "metadata": {},
   "outputs": [
    {
     "data": {
      "text/plain": [
       "('Kristin',\n",
       " ['True Food Kitchen',\n",
       "  'North Italia',\n",
       "  \"Portillo's Hot Dogs\",\n",
       "  \"Mastro's Ocean Club\",\n",
       "  'Sweet Republic'])"
      ]
     },
     "execution_count": 36,
     "metadata": {},
     "output_type": "execute_result"
    }
   ],
   "source": [
    "top_biz_pred('--2HUmLkcNHZp0xw6AMBPg'\n",
    "             , df_all = user_rev_biz\n",
    "             , df_mat = user_biz_collab_mat\n",
    "             , df_pred = nmf_mat\n",
    "             , n=5)"
   ]
  },
  {
   "cell_type": "code",
   "execution_count": 37,
   "metadata": {},
   "outputs": [
    {
     "data": {
      "text/plain": [
       "3360        Butters Pancakes & Café\n",
       "312378                   Wildflower\n",
       "600627                 Flower Child\n",
       "624904                 Viet Kitchen\n",
       "744479                   Wildflower\n",
       "746301     Original Breakfast House\n",
       "771054      Andreoli Italian Grocer\n",
       "838710                 Barrio Queen\n",
       "1147492        Rocket Burger & Subs\n",
       "1155989                 Rustic Cafe\n",
       "Name: biz_name, dtype: object"
      ]
     },
     "execution_count": 37,
     "metadata": {},
     "output_type": "execute_result"
    }
   ],
   "source": [
    "user_rev_biz['biz_name'].loc[user_rev_biz.user_id == '--2HUmLkcNHZp0xw6AMBPg'][0:10]"
   ]
  },
  {
   "cell_type": "code",
   "execution_count": null,
   "metadata": {},
   "outputs": [],
   "source": []
  },
  {
   "cell_type": "code",
   "execution_count": null,
   "metadata": {},
   "outputs": [],
   "source": []
  },
  {
   "cell_type": "code",
   "execution_count": null,
   "metadata": {},
   "outputs": [],
   "source": []
  },
  {
   "cell_type": "code",
   "execution_count": null,
   "metadata": {},
   "outputs": [],
   "source": []
  },
  {
   "cell_type": "code",
   "execution_count": null,
   "metadata": {},
   "outputs": [],
   "source": []
  },
  {
   "cell_type": "markdown",
   "metadata": {},
   "source": [
    "### Neural Network Recommender\n",
    "\n"
   ]
  },
  {
   "cell_type": "code",
   "execution_count": 38,
   "metadata": {},
   "outputs": [],
   "source": [
    "# from: https://www.youtube.com/watch?v=KmLJgq18r28"
   ]
  },
  {
   "cell_type": "code",
   "execution_count": 39,
   "metadata": {},
   "outputs": [
    {
     "data": {
      "text/plain": [
       "(140940, 7081)"
      ]
     },
     "execution_count": 39,
     "metadata": {},
     "output_type": "execute_result"
    }
   ],
   "source": [
    "nmf_mat.shape"
   ]
  },
  {
   "cell_type": "code",
   "execution_count": 105,
   "metadata": {},
   "outputs": [],
   "source": [
    "user_rev_biz_scott = user_rev_biz[['user_id'\n",
    "                                   , 'user_name'\n",
    "                                   , 'business_id'\n",
    "                                   , 'biz_name'\n",
    "                                   , 'average_stars']].loc[user_rev_biz.city == 'Scottsdale']"
   ]
  },
  {
   "cell_type": "code",
   "execution_count": 111,
   "metadata": {},
   "outputs": [],
   "source": [
    "user_id_list = list(user_rev_biz_scott.user_id.value_counts().index)"
   ]
  },
  {
   "cell_type": "code",
   "execution_count": 156,
   "metadata": {},
   "outputs": [],
   "source": [
    "user_id_dict = {y: x for (x, y) in enumerate(user_id_list)}"
   ]
  },
  {
   "cell_type": "code",
   "execution_count": 164,
   "metadata": {
    "scrolled": false
   },
   "outputs": [],
   "source": [
    "#user_id_dict"
   ]
  },
  {
   "cell_type": "code",
   "execution_count": 166,
   "metadata": {},
   "outputs": [],
   "source": [
    "user_rev_biz_scott['user_num'] = user_rev_biz_scott.user_id.map(user_id_dict)"
   ]
  },
  {
   "cell_type": "code",
   "execution_count": 154,
   "metadata": {},
   "outputs": [
    {
     "data": {
      "text/plain": [
       "'Brad'"
      ]
     },
     "execution_count": 154,
     "metadata": {},
     "output_type": "execute_result"
    }
   ],
   "source": [
    "user_rev_biz_scott.user_name.loc[user_rev_biz_scott.user_id==user_id_dict[0]].iat[0]"
   ]
  },
  {
   "cell_type": "code",
   "execution_count": 169,
   "metadata": {},
   "outputs": [],
   "source": [
    "# user_name_list = []\n",
    "# for i in range(len(user_id_dict)):\n",
    "#     user_name_list.append(user_rev_biz_scott.user_name.loc[user_rev_biz_scott.user_id==user_id_dict[i]].iat[0])"
   ]
  },
  {
   "cell_type": "code",
   "execution_count": null,
   "metadata": {},
   "outputs": [],
   "source": []
  },
  {
   "cell_type": "code",
   "execution_count": 122,
   "metadata": {},
   "outputs": [],
   "source": [
    "biz_id_list = list(user_rev_biz_scott.business_id.value_counts().index)"
   ]
  },
  {
   "cell_type": "code",
   "execution_count": 170,
   "metadata": {},
   "outputs": [],
   "source": [
    "biz_id_dict = {y: x for (x, y) in enumerate(biz_id_list)}"
   ]
  },
  {
   "cell_type": "code",
   "execution_count": 173,
   "metadata": {
    "scrolled": true
   },
   "outputs": [],
   "source": [
    "# biz_id_dict"
   ]
  },
  {
   "cell_type": "code",
   "execution_count": 174,
   "metadata": {},
   "outputs": [],
   "source": [
    "# biz_name_list = []\n",
    "# for i in range(len(biz_id_dict)):\n",
    "#     biz_name_list.append(user_rev_biz_scott.biz_name.loc[user_rev_biz_scott.business_id==biz_id_dict[i]].iat[0])"
   ]
  },
  {
   "cell_type": "code",
   "execution_count": 175,
   "metadata": {},
   "outputs": [],
   "source": [
    "user_rev_biz_scott['biz_num'] = user_rev_biz_scott.business_id.map(biz_id_dict)"
   ]
  },
  {
   "cell_type": "code",
   "execution_count": 176,
   "metadata": {},
   "outputs": [
    {
     "data": {
      "text/html": [
       "<div>\n",
       "<style scoped>\n",
       "    .dataframe tbody tr th:only-of-type {\n",
       "        vertical-align: middle;\n",
       "    }\n",
       "\n",
       "    .dataframe tbody tr th {\n",
       "        vertical-align: top;\n",
       "    }\n",
       "\n",
       "    .dataframe thead th {\n",
       "        text-align: right;\n",
       "    }\n",
       "</style>\n",
       "<table border=\"1\" class=\"dataframe\">\n",
       "  <thead>\n",
       "    <tr style=\"text-align: right;\">\n",
       "      <th></th>\n",
       "      <th>user_id</th>\n",
       "      <th>user_name</th>\n",
       "      <th>business_id</th>\n",
       "      <th>biz_name</th>\n",
       "      <th>average_stars</th>\n",
       "      <th>user_num</th>\n",
       "      <th>biz_num</th>\n",
       "    </tr>\n",
       "  </thead>\n",
       "  <tbody>\n",
       "    <tr>\n",
       "      <th>614</th>\n",
       "      <td>4XChL029mKr5hydo79Ljxg</td>\n",
       "      <td>Jenna</td>\n",
       "      <td>lV3qjLJF_5QujITWHZ64gg</td>\n",
       "      <td>Janet Kirkman</td>\n",
       "      <td>3.63</td>\n",
       "      <td>1829</td>\n",
       "      <td>2271</td>\n",
       "    </tr>\n",
       "    <tr>\n",
       "      <th>615</th>\n",
       "      <td>O7ojHP59iSi32uhEDUR44A</td>\n",
       "      <td>Jasmine</td>\n",
       "      <td>lV3qjLJF_5QujITWHZ64gg</td>\n",
       "      <td>Janet Kirkman</td>\n",
       "      <td>3.65</td>\n",
       "      <td>100</td>\n",
       "      <td>2271</td>\n",
       "    </tr>\n",
       "    <tr>\n",
       "      <th>616</th>\n",
       "      <td>HfmcMLJb3HMOen7VrLk0bw</td>\n",
       "      <td>Kim</td>\n",
       "      <td>lV3qjLJF_5QujITWHZ64gg</td>\n",
       "      <td>Janet Kirkman</td>\n",
       "      <td>4.79</td>\n",
       "      <td>2824</td>\n",
       "      <td>2271</td>\n",
       "    </tr>\n",
       "    <tr>\n",
       "      <th>617</th>\n",
       "      <td>BmipmKVTx37gpfPzK7eU4A</td>\n",
       "      <td>Kirstin</td>\n",
       "      <td>lV3qjLJF_5QujITWHZ64gg</td>\n",
       "      <td>Janet Kirkman</td>\n",
       "      <td>3.95</td>\n",
       "      <td>644</td>\n",
       "      <td>2271</td>\n",
       "    </tr>\n",
       "    <tr>\n",
       "      <th>618</th>\n",
       "      <td>_ILD1nTTCBjp0FdG1j2aNw</td>\n",
       "      <td>Colleen</td>\n",
       "      <td>lV3qjLJF_5QujITWHZ64gg</td>\n",
       "      <td>Janet Kirkman</td>\n",
       "      <td>4.55</td>\n",
       "      <td>69897</td>\n",
       "      <td>2271</td>\n",
       "    </tr>\n",
       "  </tbody>\n",
       "</table>\n",
       "</div>"
      ],
      "text/plain": [
       "                    user_id user_name             business_id       biz_name  \\\n",
       "614  4XChL029mKr5hydo79Ljxg     Jenna  lV3qjLJF_5QujITWHZ64gg  Janet Kirkman   \n",
       "615  O7ojHP59iSi32uhEDUR44A   Jasmine  lV3qjLJF_5QujITWHZ64gg  Janet Kirkman   \n",
       "616  HfmcMLJb3HMOen7VrLk0bw       Kim  lV3qjLJF_5QujITWHZ64gg  Janet Kirkman   \n",
       "617  BmipmKVTx37gpfPzK7eU4A   Kirstin  lV3qjLJF_5QujITWHZ64gg  Janet Kirkman   \n",
       "618  _ILD1nTTCBjp0FdG1j2aNw   Colleen  lV3qjLJF_5QujITWHZ64gg  Janet Kirkman   \n",
       "\n",
       "     average_stars  user_num  biz_num  \n",
       "614           3.63      1829     2271  \n",
       "615           3.65       100     2271  \n",
       "616           4.79      2824     2271  \n",
       "617           3.95       644     2271  \n",
       "618           4.55     69897     2271  "
      ]
     },
     "execution_count": 176,
     "metadata": {},
     "output_type": "execute_result"
    }
   ],
   "source": [
    "user_rev_biz_scott.head()"
   ]
  },
  {
   "cell_type": "code",
   "execution_count": null,
   "metadata": {},
   "outputs": [],
   "source": []
  },
  {
   "cell_type": "code",
   "execution_count": 97,
   "metadata": {},
   "outputs": [],
   "source": [
    "from sklearn.model_selection import train_test_split"
   ]
  },
  {
   "cell_type": "code",
   "execution_count": 178,
   "metadata": {},
   "outputs": [],
   "source": [
    "X = user_rev_biz_scott[['user_num', 'biz_num']]\n",
    "y = user_rev_biz_scott.average_stars\n",
    "X_train, X_test, y_train, y_test = train_test_split(X\n",
    "                                                   , y\n",
    "                                                   , test_size=0.25\n",
    "                                                   , random_state=42)"
   ]
  },
  {
   "cell_type": "code",
   "execution_count": 179,
   "metadata": {},
   "outputs": [],
   "source": [
    "n_users = user_rev_biz_scott.user_id.nunique()"
   ]
  },
  {
   "cell_type": "code",
   "execution_count": 180,
   "metadata": {},
   "outputs": [
    {
     "data": {
      "text/plain": [
       "140940"
      ]
     },
     "execution_count": 180,
     "metadata": {},
     "output_type": "execute_result"
    }
   ],
   "source": [
    "n_users"
   ]
  },
  {
   "cell_type": "code",
   "execution_count": 181,
   "metadata": {},
   "outputs": [],
   "source": [
    "n_biz = user_rev_biz_scott.business_id.nunique()"
   ]
  },
  {
   "cell_type": "code",
   "execution_count": 182,
   "metadata": {},
   "outputs": [
    {
     "data": {
      "text/plain": [
       "7081"
      ]
     },
     "execution_count": 182,
     "metadata": {},
     "output_type": "execute_result"
    }
   ],
   "source": [
    "n_biz"
   ]
  },
  {
   "cell_type": "code",
   "execution_count": 226,
   "metadata": {},
   "outputs": [],
   "source": [
    "n_factors = 200"
   ]
  },
  {
   "cell_type": "code",
   "execution_count": 227,
   "metadata": {},
   "outputs": [],
   "source": [
    "from tensorflow.keras.layers import (Input\n",
    "                                     , Embedding\n",
    "                                     , concatenate\n",
    "                                     , Flatten\n",
    "                                     , Dropout\n",
    "                                     , Dense)\n",
    "from tensorflow.keras.models import Model"
   ]
  },
  {
   "cell_type": "code",
   "execution_count": 228,
   "metadata": {},
   "outputs": [],
   "source": [
    "def embedding_input(name, n_in, n_out):\n",
    "    inp = Input(shape=(1,)\n",
    "               , dtype='int64'\n",
    "               , name=name)\n",
    "    return inp, Embedding(n_in\n",
    "                         , n_out\n",
    "                         , input_length = 1\n",
    "                         )(inp)"
   ]
  },
  {
   "cell_type": "code",
   "execution_count": 229,
   "metadata": {},
   "outputs": [],
   "source": [
    "user_in, u = embedding_input('user_in'\n",
    "                            , n_users\n",
    "                            , n_factors)\n",
    "biz_in, b = embedding_input('biz_in'\n",
    "                           , n_biz\n",
    "                           , n_factors)"
   ]
  },
  {
   "cell_type": "markdown",
   "metadata": {},
   "source": [
    "tf.keras.layers: https://www.tensorflow.org/api_docs/python/tf/keras/layers"
   ]
  },
  {
   "cell_type": "code",
   "execution_count": 230,
   "metadata": {},
   "outputs": [],
   "source": [
    "x = concatenate([u, b], axis=-1)\n",
    "x = Flatten()(x)\n",
    "x = Dropout(0.5)(x)\n",
    "x = Dense(1)(x)\n",
    "nn = Model([user_in, biz_in]\n",
    "          , x)\n",
    "nn.compile(optimizer = 'adam'\n",
    "           , loss='mse'\n",
    "           , metrics=['accuracy']\n",
    "          )"
   ]
  },
  {
   "cell_type": "markdown",
   "metadata": {},
   "source": [
    "tf.keras.Model: https://www.tensorflow.org/api_docs/python/tf/keras/Model"
   ]
  },
  {
   "cell_type": "code",
   "execution_count": 231,
   "metadata": {},
   "outputs": [
    {
     "name": "stdout",
     "output_type": "stream",
     "text": [
      "Train on 296843 samples, validate on 32983 samples\n",
      "Epoch 1/5\n",
      "296843/296843 [==============================] - 188s 634us/sample - loss: 3.0571 - accuracy: 0.0124 - val_loss: 13.7933 - val_accuracy: 6.9733e-04\n",
      "Epoch 2/5\n",
      "296843/296843 [==============================] - 187s 630us/sample - loss: 0.4003 - accuracy: 0.0141 - val_loss: 13.2662 - val_accuracy: 0.0010\n",
      "Epoch 3/5\n",
      "296843/296843 [==============================] - 188s 633us/sample - loss: 0.2308 - accuracy: 0.0141 - val_loss: 12.9406 - val_accuracy: 0.0011\n",
      "Epoch 4/5\n",
      "296843/296843 [==============================] - 190s 639us/sample - loss: 0.1763 - accuracy: 0.0141 - val_loss: 12.6821 - val_accuracy: 0.0012\n",
      "Epoch 5/5\n",
      "296843/296843 [==============================] - 187s 629us/sample - loss: 0.1508 - accuracy: 0.0140 - val_loss: 12.3396 - val_accuracy: 0.0016\n"
     ]
    },
    {
     "data": {
      "text/plain": [
       "<tensorflow.python.keras.callbacks.History at 0x7f4e057c8f10>"
      ]
     },
     "execution_count": 231,
     "metadata": {},
     "output_type": "execute_result"
    }
   ],
   "source": [
    "nn.fit([X.user_num, X.biz_num]\n",
    "      , y\n",
    "      , batch_size=512\n",
    "      , epochs = 5\n",
    "      , validation_split = 0.10)"
   ]
  },
  {
   "cell_type": "code",
   "execution_count": null,
   "metadata": {},
   "outputs": [],
   "source": []
  },
  {
   "cell_type": "code",
   "execution_count": null,
   "metadata": {},
   "outputs": [],
   "source": []
  },
  {
   "cell_type": "markdown",
   "metadata": {},
   "source": [
    "### Using Texts to Model Business to Business Similarity"
   ]
  },
  {
   "cell_type": "code",
   "execution_count": null,
   "metadata": {},
   "outputs": [],
   "source": []
  },
  {
   "cell_type": "code",
   "execution_count": null,
   "metadata": {},
   "outputs": [],
   "source": [
    "user_rev_biz.fillna('', inplace = True)"
   ]
  },
  {
   "cell_type": "code",
   "execution_count": null,
   "metadata": {},
   "outputs": [],
   "source": [
    "user_rev_biz.isna().sum()"
   ]
  },
  {
   "cell_type": "code",
   "execution_count": null,
   "metadata": {},
   "outputs": [],
   "source": [
    "# combine re_text and categories\n",
    "def combine(rows):\n",
    "    return rows['rev_text']+' '+rows['categories']"
   ]
  },
  {
   "cell_type": "code",
   "execution_count": null,
   "metadata": {
    "scrolled": true
   },
   "outputs": [],
   "source": [
    "user_rev_biz['text'] = user_rev_biz.apply(combine\n",
    "                                          , axis = 1)"
   ]
  },
  {
   "cell_type": "code",
   "execution_count": null,
   "metadata": {},
   "outputs": [],
   "source": [
    "from sklearn.feature_extraction.text import CountVectorizer"
   ]
  },
  {
   "cell_type": "code",
   "execution_count": null,
   "metadata": {},
   "outputs": [],
   "source": [
    "user_rev_biz_scott = user_rev_biz.loc[user_rev_biz.city == 'Scottsdale']"
   ]
  },
  {
   "cell_type": "code",
   "execution_count": null,
   "metadata": {},
   "outputs": [],
   "source": [
    "len(user_rev_biz_scott.user_id.value_counts())"
   ]
  },
  {
   "cell_type": "code",
   "execution_count": null,
   "metadata": {},
   "outputs": [],
   "source": [
    "urbs_cond = user_rev_biz_scott.drop_duplicates(subset = 'business_id')"
   ]
  },
  {
   "cell_type": "code",
   "execution_count": null,
   "metadata": {},
   "outputs": [],
   "source": [
    "urbs_cond.shape"
   ]
  },
  {
   "cell_type": "code",
   "execution_count": null,
   "metadata": {},
   "outputs": [],
   "source": [
    "count_matrix = CountVectorizer().fit_transform(urbs_cond['text'])"
   ]
  },
  {
   "cell_type": "code",
   "execution_count": null,
   "metadata": {},
   "outputs": [],
   "source": [
    "from sklearn.metrics.pairwise import cosine_similarity"
   ]
  },
  {
   "cell_type": "code",
   "execution_count": null,
   "metadata": {},
   "outputs": [],
   "source": [
    "cosine_sim = cosine_similarity(count_matrix, count_matrix)"
   ]
  },
  {
   "cell_type": "code",
   "execution_count": null,
   "metadata": {},
   "outputs": [],
   "source": [
    "cosine_sim.shape"
   ]
  },
  {
   "cell_type": "code",
   "execution_count": null,
   "metadata": {},
   "outputs": [],
   "source": [
    "biz = cosine_sim[0].argsort()[-6:][::-1][1:]\n",
    "biz"
   ]
  },
  {
   "cell_type": "code",
   "execution_count": null,
   "metadata": {},
   "outputs": [],
   "source": [
    "biz_perc = cosine_sim[0][biz]"
   ]
  },
  {
   "cell_type": "code",
   "execution_count": null,
   "metadata": {},
   "outputs": [],
   "source": [
    "biz_perc"
   ]
  },
  {
   "cell_type": "code",
   "execution_count": null,
   "metadata": {},
   "outputs": [],
   "source": [
    "biz_names = urbs_cond['biz_name'].loc[urbs_cond.user_id == name_id].unique()[0]"
   ]
  },
  {
   "cell_type": "code",
   "execution_count": null,
   "metadata": {},
   "outputs": [],
   "source": [
    "urbs_cond.business_id"
   ]
  },
  {
   "cell_type": "code",
   "execution_count": null,
   "metadata": {},
   "outputs": [],
   "source": [
    "biz_dict = {x: y for x in urbs_cond.business_id for y in urbs_cond.biz_name}"
   ]
  },
  {
   "cell_type": "code",
   "execution_count": null,
   "metadata": {
    "scrolled": true
   },
   "outputs": [],
   "source": [
    "biz_dict['lV3qjLJF_5QujITWHZ64gg']"
   ]
  },
  {
   "cell_type": "code",
   "execution_count": null,
   "metadata": {},
   "outputs": [],
   "source": [
    "len(biz_dict)"
   ]
  },
  {
   "cell_type": "code",
   "execution_count": null,
   "metadata": {},
   "outputs": [],
   "source": [
    "biz_df = urbs_cond[['business_id', 'biz_name']]"
   ]
  },
  {
   "cell_type": "code",
   "execution_count": null,
   "metadata": {},
   "outputs": [],
   "source": [
    "biz_df"
   ]
  },
  {
   "cell_type": "code",
   "execution_count": null,
   "metadata": {},
   "outputs": [],
   "source": [
    "for idx in biz:\n",
    "    print(biz_df.biz_name.iloc[idx])"
   ]
  },
  {
   "cell_type": "code",
   "execution_count": null,
   "metadata": {},
   "outputs": [],
   "source": []
  },
  {
   "cell_type": "code",
   "execution_count": null,
   "metadata": {},
   "outputs": [],
   "source": []
  },
  {
   "cell_type": "code",
   "execution_count": null,
   "metadata": {},
   "outputs": [],
   "source": []
  },
  {
   "cell_type": "code",
   "execution_count": null,
   "metadata": {},
   "outputs": [],
   "source": []
  },
  {
   "cell_type": "code",
   "execution_count": null,
   "metadata": {},
   "outputs": [],
   "source": []
  },
  {
   "cell_type": "code",
   "execution_count": null,
   "metadata": {},
   "outputs": [],
   "source": []
  },
  {
   "cell_type": "code",
   "execution_count": null,
   "metadata": {},
   "outputs": [],
   "source": []
  },
  {
   "cell_type": "code",
   "execution_count": null,
   "metadata": {},
   "outputs": [],
   "source": []
  },
  {
   "cell_type": "code",
   "execution_count": null,
   "metadata": {},
   "outputs": [],
   "source": []
  },
  {
   "cell_type": "code",
   "execution_count": null,
   "metadata": {},
   "outputs": [],
   "source": []
  },
  {
   "cell_type": "code",
   "execution_count": null,
   "metadata": {},
   "outputs": [],
   "source": []
  },
  {
   "cell_type": "code",
   "execution_count": null,
   "metadata": {},
   "outputs": [],
   "source": []
  },
  {
   "cell_type": "code",
   "execution_count": null,
   "metadata": {},
   "outputs": [],
   "source": []
  },
  {
   "cell_type": "code",
   "execution_count": null,
   "metadata": {},
   "outputs": [],
   "source": []
  },
  {
   "cell_type": "code",
   "execution_count": null,
   "metadata": {},
   "outputs": [],
   "source": []
  }
 ],
 "metadata": {
  "kernelspec": {
   "display_name": "Python 3",
   "language": "python",
   "name": "python3"
  },
  "language_info": {
   "codemirror_mode": {
    "name": "ipython",
    "version": 3
   },
   "file_extension": ".py",
   "mimetype": "text/x-python",
   "name": "python",
   "nbconvert_exporter": "python",
   "pygments_lexer": "ipython3",
   "version": "3.7.5"
  }
 },
 "nbformat": 4,
 "nbformat_minor": 4
}
