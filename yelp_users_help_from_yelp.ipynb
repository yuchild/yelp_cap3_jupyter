{
 "cells": [
  {
   "cell_type": "code",
   "execution_count": 7,
   "metadata": {},
   "outputs": [],
   "source": [
    "import pandas as pd\n",
    "import numpy as np\n",
    "from sklearn.model_selection import train_test_split\n",
    "import matplotlib.pyplot as plt\n",
    "plt.rcParams.update({'font.size':20})\n",
    "import cv2\n",
    "\n",
    "import tensorflow as tf\n",
    "from tensorflow.keras.preprocessing import image\n",
    "from scipy.sparse.linalg import svds"
   ]
  },
  {
   "cell_type": "code",
   "execution_count": 8,
   "metadata": {},
   "outputs": [
    {
     "name": "stdout",
     "output_type": "stream",
     "text": [
      "The autoreload extension is already loaded. To reload it, use:\n",
      "  %reload_ext autoreload\n"
     ]
    }
   ],
   "source": [
    "%load_ext autoreload\n",
    "%autoreload 2"
   ]
  },
  {
   "cell_type": "code",
   "execution_count": 138,
   "metadata": {},
   "outputs": [],
   "source": [
    "from src.models import (load_data\n",
    "                        , data_summary\n",
    "                        , combine_tables\n",
    "                        , collab_mat\n",
    "                        , svd_mat\n",
    "                        , svd_model\n",
    "                        , surprise_bench\n",
    "                        , top_biz_pred\n",
    "                        , NMF_Mat\n",
    "                        , NN_Model\n",
    "                        , NN_Results_df\n",
    "                        , con_bas_biz_rec\n",
    "                       )"
   ]
  },
  {
   "cell_type": "markdown",
   "metadata": {},
   "source": [
    "### Load Data"
   ]
  },
  {
   "cell_type": "code",
   "execution_count": 11,
   "metadata": {},
   "outputs": [],
   "source": [
    "biz_df, rev_df, ckin_df, pho_df, tip_df, user_df = load_data()"
   ]
  },
  {
   "cell_type": "code",
   "execution_count": 12,
   "metadata": {},
   "outputs": [
    {
     "data": {
      "text/html": [
       "<style  type=\"text/css\" >\n",
       "</style><table id=\"T_e093dc62_599d_11ea_a0fd_b37b3e820140\" ><thead>    <tr>        <th class=\"col_heading level0 col0\" >name</th>        <th class=\"col_heading level0 col1\" >rows</th>        <th class=\"col_heading level0 col2\" >colums</th>    </tr></thead><tbody>\n",
       "                <tr>\n",
       "                                <td id=\"T_e093dc62_599d_11ea_a0fd_b37b3e820140row0_col0\" class=\"data row0 col0\" >business</td>\n",
       "                        <td id=\"T_e093dc62_599d_11ea_a0fd_b37b3e820140row0_col1\" class=\"data row0 col1\" >192609</td>\n",
       "                        <td id=\"T_e093dc62_599d_11ea_a0fd_b37b3e820140row0_col2\" class=\"data row0 col2\" >14</td>\n",
       "            </tr>\n",
       "            <tr>\n",
       "                                <td id=\"T_e093dc62_599d_11ea_a0fd_b37b3e820140row1_col0\" class=\"data row1 col0\" >review</td>\n",
       "                        <td id=\"T_e093dc62_599d_11ea_a0fd_b37b3e820140row1_col1\" class=\"data row1 col1\" >6685900</td>\n",
       "                        <td id=\"T_e093dc62_599d_11ea_a0fd_b37b3e820140row1_col2\" class=\"data row1 col2\" >9</td>\n",
       "            </tr>\n",
       "            <tr>\n",
       "                                <td id=\"T_e093dc62_599d_11ea_a0fd_b37b3e820140row2_col0\" class=\"data row2 col0\" >checkin</td>\n",
       "                        <td id=\"T_e093dc62_599d_11ea_a0fd_b37b3e820140row2_col1\" class=\"data row2 col1\" >161950</td>\n",
       "                        <td id=\"T_e093dc62_599d_11ea_a0fd_b37b3e820140row2_col2\" class=\"data row2 col2\" >2</td>\n",
       "            </tr>\n",
       "            <tr>\n",
       "                                <td id=\"T_e093dc62_599d_11ea_a0fd_b37b3e820140row3_col0\" class=\"data row3 col0\" >photo</td>\n",
       "                        <td id=\"T_e093dc62_599d_11ea_a0fd_b37b3e820140row3_col1\" class=\"data row3 col1\" >200000</td>\n",
       "                        <td id=\"T_e093dc62_599d_11ea_a0fd_b37b3e820140row3_col2\" class=\"data row3 col2\" >4</td>\n",
       "            </tr>\n",
       "            <tr>\n",
       "                                <td id=\"T_e093dc62_599d_11ea_a0fd_b37b3e820140row4_col0\" class=\"data row4 col0\" >tip</td>\n",
       "                        <td id=\"T_e093dc62_599d_11ea_a0fd_b37b3e820140row4_col1\" class=\"data row4 col1\" >1223094</td>\n",
       "                        <td id=\"T_e093dc62_599d_11ea_a0fd_b37b3e820140row4_col2\" class=\"data row4 col2\" >5</td>\n",
       "            </tr>\n",
       "            <tr>\n",
       "                                <td id=\"T_e093dc62_599d_11ea_a0fd_b37b3e820140row5_col0\" class=\"data row5 col0\" >user</td>\n",
       "                        <td id=\"T_e093dc62_599d_11ea_a0fd_b37b3e820140row5_col1\" class=\"data row5 col1\" >1637138</td>\n",
       "                        <td id=\"T_e093dc62_599d_11ea_a0fd_b37b3e820140row5_col2\" class=\"data row5 col2\" >22</td>\n",
       "            </tr>\n",
       "    </tbody></table>"
      ],
      "text/plain": [
       "<pandas.io.formats.style.Styler at 0x7fa0fb367490>"
      ]
     },
     "execution_count": 12,
     "metadata": {},
     "output_type": "execute_result"
    }
   ],
   "source": [
    "data_summary(biz_df\n",
    "             , rev_df\n",
    "             , ckin_df\n",
    "             , pho_df\n",
    "             , tip_df\n",
    "             , user_df)"
   ]
  },
  {
   "cell_type": "code",
   "execution_count": 13,
   "metadata": {},
   "outputs": [],
   "source": [
    "user_rev_biz = combine_tables(user_df\n",
    "                              , rev_df\n",
    "                              , biz_df)"
   ]
  },
  {
   "cell_type": "code",
   "execution_count": 25,
   "metadata": {},
   "outputs": [
    {
     "data": {
      "text/plain": [
       "Las Vegas     1757375\n",
       "Phoenix        645716\n",
       "Toronto        434349\n",
       "Scottsdale     329826\n",
       "Charlotte      273989\n",
       "Name: city, dtype: int64"
      ]
     },
     "execution_count": 25,
     "metadata": {},
     "output_type": "execute_result"
    }
   ],
   "source": [
    "user_rev_biz.city.value_counts()[0:5]"
   ]
  },
  {
   "cell_type": "code",
   "execution_count": 15,
   "metadata": {},
   "outputs": [],
   "source": [
    "user_biz_collab_mat = collab_mat('Scottsdale'\n",
    "                                 , user_rev_biz)"
   ]
  },
  {
   "cell_type": "code",
   "execution_count": 16,
   "metadata": {},
   "outputs": [
    {
     "data": {
      "text/plain": [
       "(140940, 7081)"
      ]
     },
     "execution_count": 16,
     "metadata": {},
     "output_type": "execute_result"
    }
   ],
   "source": [
    "user_biz_collab_mat.shape"
   ]
  },
  {
   "cell_type": "code",
   "execution_count": null,
   "metadata": {},
   "outputs": [],
   "source": []
  },
  {
   "cell_type": "code",
   "execution_count": null,
   "metadata": {},
   "outputs": [],
   "source": []
  },
  {
   "cell_type": "markdown",
   "metadata": {},
   "source": [
    "### SVD"
   ]
  },
  {
   "cell_type": "code",
   "execution_count": 20,
   "metadata": {},
   "outputs": [],
   "source": [
    "sigma, user_biz_predictions = svd_mat(user_biz_collab_mat, k=40)"
   ]
  },
  {
   "cell_type": "code",
   "execution_count": null,
   "metadata": {},
   "outputs": [],
   "source": []
  },
  {
   "cell_type": "code",
   "execution_count": null,
   "metadata": {},
   "outputs": [],
   "source": []
  },
  {
   "cell_type": "markdown",
   "metadata": {},
   "source": [
    "### Precictions"
   ]
  },
  {
   "cell_type": "code",
   "execution_count": 21,
   "metadata": {},
   "outputs": [
    {
     "data": {
      "text/plain": [
       "('Kristin',\n",
       " ['True Food Kitchen',\n",
       "  'Cafe Monarch',\n",
       "  'The Herb Box',\n",
       "  'Sweet Republic',\n",
       "  'Talking Stick Resort'])"
      ]
     },
     "execution_count": 21,
     "metadata": {},
     "output_type": "execute_result"
    }
   ],
   "source": [
    "top_biz_pred('--2HUmLkcNHZp0xw6AMBPg'\n",
    "             , df_all = user_rev_biz\n",
    "             , df_mat = user_biz_collab_mat\n",
    "             , df_pred = user_biz_predictions\n",
    "             , n=5)"
   ]
  },
  {
   "cell_type": "code",
   "execution_count": 22,
   "metadata": {},
   "outputs": [
    {
     "data": {
      "text/plain": [
       "3360      Butters Pancakes & Café\n",
       "312378                 Wildflower\n",
       "600627               Flower Child\n",
       "624904               Viet Kitchen\n",
       "744479                 Wildflower\n",
       "Name: biz_name, dtype: object"
      ]
     },
     "execution_count": 22,
     "metadata": {},
     "output_type": "execute_result"
    }
   ],
   "source": [
    "user_rev_biz['biz_name'].loc[user_rev_biz.user_id == '--2HUmLkcNHZp0xw6AMBPg'][0:5]"
   ]
  },
  {
   "cell_type": "code",
   "execution_count": null,
   "metadata": {},
   "outputs": [],
   "source": []
  },
  {
   "cell_type": "code",
   "execution_count": null,
   "metadata": {},
   "outputs": [],
   "source": []
  },
  {
   "cell_type": "markdown",
   "metadata": {},
   "source": [
    "### Validation"
   ]
  },
  {
   "cell_type": "code",
   "execution_count": 88,
   "metadata": {},
   "outputs": [],
   "source": [
    "from surprise import (SVD\n",
    "                      , SVDpp\n",
    "                      , SlopeOne\n",
    "                      , NMF\n",
    "                      , NormalPredictor\n",
    "                      , KNNBaseline\n",
    "                      , KNNBasic\n",
    "                      , KNNWithMeans\n",
    "                      , KNNWithZScore\n",
    "                      , BaselineOnly\n",
    "                      , CoClustering)\n",
    "from surprise import NormalPredictor\n",
    "from surprise import Dataset\n",
    "from surprise import Reader\n",
    "from surprise.model_selection.split import train_test_split\n",
    "from surprise.model_selection.validation import cross_validate\n",
    "from surprise import accuracy"
   ]
  },
  {
   "cell_type": "code",
   "execution_count": 101,
   "metadata": {},
   "outputs": [
    {
     "name": "stdout",
     "output_type": "stream",
     "text": [
      "RMSE: 0.7039\n"
     ]
    }
   ],
   "source": [
    "data, svd_acc, svd_cv = svd_model(df = user_rev_biz)"
   ]
  },
  {
   "cell_type": "code",
   "execution_count": 30,
   "metadata": {},
   "outputs": [
    {
     "data": {
      "text/plain": [
       "0.7025753593716568"
      ]
     },
     "execution_count": 30,
     "metadata": {},
     "output_type": "execute_result"
    }
   ],
   "source": [
    "svd_acc"
   ]
  },
  {
   "cell_type": "code",
   "execution_count": 31,
   "metadata": {},
   "outputs": [
    {
     "data": {
      "text/plain": [
       "array([0.69526682, 0.70389056, 0.70047807, 0.69866807, 0.70012946])"
      ]
     },
     "execution_count": 31,
     "metadata": {},
     "output_type": "execute_result"
    }
   ],
   "source": [
    "svd_cv"
   ]
  },
  {
   "cell_type": "code",
   "execution_count": 104,
   "metadata": {},
   "outputs": [],
   "source": [
    "# bench_df = surprise_bench(dat = data) # import from models.py doesn't work!"
   ]
  },
  {
   "cell_type": "code",
   "execution_count": null,
   "metadata": {},
   "outputs": [],
   "source": [
    "bench_df = svd_model(dat=data)"
   ]
  },
  {
   "cell_type": "code",
   "execution_count": 90,
   "metadata": {},
   "outputs": [],
   "source": [
    "def surprise_bench(dat):\n",
    "    \"\"\"\n",
    "    Creates benchmark dataframe of SVD, NMF, NormalPredictor, and Baseline with \n",
    "    5 Fold cross validation and returns rmse metrics\n",
    "    \"\"\"\n",
    "\n",
    "    benchmark = []\n",
    "    \n",
    "    # Iterate over all algorithms\n",
    "    for algorithm in [SVD()\n",
    "                      , NMF()\n",
    "                      , NormalPredictor()\n",
    "                      , BaselineOnly()\n",
    "                     ]:\n",
    "    # Perform cross validation\n",
    "        results = cross_validate(algorithm\n",
    "                                 , dat\n",
    "                                 , measures=['RMSE']\n",
    "                                 , cv=5\n",
    "                                 , verbose = False\n",
    "                                )\n",
    "\n",
    "        # Get results & append algorithm name\n",
    "        tmp = pd.DataFrame.from_dict(results).mean(axis=0)\n",
    "        tmp = tmp.append(pd.Series([str(algorithm).split(' ')[0].split('.')[-1]], index=['Algorithm']))\n",
    "        benchmark.append(tmp)\n",
    "\n",
    "    return pd.DataFrame(benchmark).set_index('Algorithm').sort_values('test_rmse')\n"
   ]
  },
  {
   "cell_type": "code",
   "execution_count": 91,
   "metadata": {},
   "outputs": [
    {
     "name": "stdout",
     "output_type": "stream",
     "text": [
      "Estimating biases using als...\n",
      "Estimating biases using als...\n",
      "Estimating biases using als...\n",
      "Estimating biases using als...\n",
      "Estimating biases using als...\n"
     ]
    },
    {
     "data": {
      "text/html": [
       "<div>\n",
       "<style scoped>\n",
       "    .dataframe tbody tr th:only-of-type {\n",
       "        vertical-align: middle;\n",
       "    }\n",
       "\n",
       "    .dataframe tbody tr th {\n",
       "        vertical-align: top;\n",
       "    }\n",
       "\n",
       "    .dataframe thead th {\n",
       "        text-align: right;\n",
       "    }\n",
       "</style>\n",
       "<table border=\"1\" class=\"dataframe\">\n",
       "  <thead>\n",
       "    <tr style=\"text-align: right;\">\n",
       "      <th></th>\n",
       "      <th>test_rmse</th>\n",
       "      <th>fit_time</th>\n",
       "      <th>test_time</th>\n",
       "    </tr>\n",
       "    <tr>\n",
       "      <th>Algorithm</th>\n",
       "      <th></th>\n",
       "      <th></th>\n",
       "      <th></th>\n",
       "    </tr>\n",
       "  </thead>\n",
       "  <tbody>\n",
       "    <tr>\n",
       "      <th>NMF</th>\n",
       "      <td>0.641081</td>\n",
       "      <td>25.243075</td>\n",
       "      <td>0.435877</td>\n",
       "    </tr>\n",
       "    <tr>\n",
       "      <th>SVD</th>\n",
       "      <td>0.699325</td>\n",
       "      <td>15.144834</td>\n",
       "      <td>0.526336</td>\n",
       "    </tr>\n",
       "    <tr>\n",
       "      <th>BaselineOnly</th>\n",
       "      <td>0.718332</td>\n",
       "      <td>2.363852</td>\n",
       "      <td>0.563503</td>\n",
       "    </tr>\n",
       "    <tr>\n",
       "      <th>NormalPredictor</th>\n",
       "      <td>1.102319</td>\n",
       "      <td>0.664421</td>\n",
       "      <td>0.524076</td>\n",
       "    </tr>\n",
       "  </tbody>\n",
       "</table>\n",
       "</div>"
      ],
      "text/plain": [
       "                 test_rmse   fit_time  test_time\n",
       "Algorithm                                       \n",
       "NMF               0.641081  25.243075   0.435877\n",
       "SVD               0.699325  15.144834   0.526336\n",
       "BaselineOnly      0.718332   2.363852   0.563503\n",
       "NormalPredictor   1.102319   0.664421   0.524076"
      ]
     },
     "execution_count": 91,
     "metadata": {},
     "output_type": "execute_result"
    }
   ],
   "source": [
    "surprise_bench(data)"
   ]
  },
  {
   "cell_type": "code",
   "execution_count": null,
   "metadata": {},
   "outputs": [],
   "source": []
  },
  {
   "cell_type": "code",
   "execution_count": null,
   "metadata": {},
   "outputs": [],
   "source": []
  },
  {
   "cell_type": "markdown",
   "metadata": {},
   "source": [
    "### NMF"
   ]
  },
  {
   "cell_type": "code",
   "execution_count": 92,
   "metadata": {},
   "outputs": [],
   "source": [
    "NMF_results = cross_validate(NMF(), data, cv = 5)"
   ]
  },
  {
   "cell_type": "code",
   "execution_count": 93,
   "metadata": {},
   "outputs": [
    {
     "data": {
      "text/plain": [
       "array([0.63889333, 0.63572869, 0.63549771, 0.63658695, 0.64606266])"
      ]
     },
     "execution_count": 93,
     "metadata": {},
     "output_type": "execute_result"
    }
   ],
   "source": [
    "NMF_results['test_rmse']"
   ]
  },
  {
   "cell_type": "code",
   "execution_count": 94,
   "metadata": {},
   "outputs": [],
   "source": [
    "from sklearn.decomposition import NMF"
   ]
  },
  {
   "cell_type": "code",
   "execution_count": 98,
   "metadata": {},
   "outputs": [],
   "source": [
    "nmf_mat = NMF_Mat(user_biz_collab_mat)"
   ]
  },
  {
   "cell_type": "code",
   "execution_count": 99,
   "metadata": {},
   "outputs": [
    {
     "data": {
      "text/plain": [
       "('Kristin',\n",
       " ['True Food Kitchen',\n",
       "  'North Italia',\n",
       "  \"Portillo's Hot Dogs\",\n",
       "  \"Mastro's Ocean Club\",\n",
       "  'Sweet Republic'])"
      ]
     },
     "execution_count": 99,
     "metadata": {},
     "output_type": "execute_result"
    }
   ],
   "source": [
    "top_biz_pred('--2HUmLkcNHZp0xw6AMBPg'\n",
    "             , df_all = user_rev_biz\n",
    "             , df_mat = user_biz_collab_mat\n",
    "             , df_pred = nmf_mat\n",
    "             , n=5)"
   ]
  },
  {
   "cell_type": "code",
   "execution_count": 100,
   "metadata": {},
   "outputs": [
    {
     "data": {
      "text/plain": [
       "3360        Butters Pancakes & Café\n",
       "312378                   Wildflower\n",
       "600627                 Flower Child\n",
       "624904                 Viet Kitchen\n",
       "744479                   Wildflower\n",
       "746301     Original Breakfast House\n",
       "771054      Andreoli Italian Grocer\n",
       "838710                 Barrio Queen\n",
       "1147492        Rocket Burger & Subs\n",
       "1155989                 Rustic Cafe\n",
       "Name: biz_name, dtype: object"
      ]
     },
     "execution_count": 100,
     "metadata": {},
     "output_type": "execute_result"
    }
   ],
   "source": [
    "user_rev_biz['biz_name'].loc[user_rev_biz.user_id == '--2HUmLkcNHZp0xw6AMBPg'][0:10]"
   ]
  },
  {
   "cell_type": "code",
   "execution_count": null,
   "metadata": {},
   "outputs": [],
   "source": []
  },
  {
   "cell_type": "code",
   "execution_count": null,
   "metadata": {},
   "outputs": [],
   "source": []
  },
  {
   "cell_type": "markdown",
   "metadata": {},
   "source": [
    "### Neural Network Recommender\n",
    "\n"
   ]
  },
  {
   "cell_type": "code",
   "execution_count": 38,
   "metadata": {},
   "outputs": [],
   "source": [
    "# https://www.youtube.com/watch?v=4vwNkHFuZBk"
   ]
  },
  {
   "cell_type": "code",
   "execution_count": 55,
   "metadata": {},
   "outputs": [],
   "source": [
    "from tensorflow.keras.layers import (Input\n",
    "                                     , Embedding\n",
    "                                     , Dot\n",
    "                                     , Flatten\n",
    "                                    )\n",
    "from tensorflow.keras.models import Model\n",
    "from tensorflow.keras.models import load_model\n",
    "from tensorflow.keras.callbacks import History\n",
    "from tensorflow.keras.metrics import Accuracy\n",
    "from tensorflow.keras.callbacks import Callback\n",
    "\n",
    "import os"
   ]
  },
  {
   "cell_type": "code",
   "execution_count": 127,
   "metadata": {},
   "outputs": [
    {
     "name": "stdout",
     "output_type": "stream",
     "text": [
      "\n",
      "Testing loss: 14.817582237519101, acc: 0.0\n",
      "\n",
      "\n",
      "Testing loss: 11.637468117049675, acc: 0.00018191299750469625\n",
      "\n",
      "\n",
      "Testing loss: 9.490416378059315, acc: 0.0006185041856952012\n",
      "\n",
      "\n",
      "Testing loss: 8.176243728471057, acc: 0.0012248808052390814\n",
      "\n",
      "\n",
      "Testing loss: 7.350477243424827, acc: 0.001467431546188891\n",
      "\n",
      "\n",
      "Testing loss: 6.818755949124871, acc: 0.0015401967102661729\n",
      "\n",
      "\n",
      "Testing loss: 6.463896464556681, acc: 0.0015765792923048139\n",
      "\n",
      "\n",
      "Testing loss: 6.22313673256807, acc: 0.0016735995886847377\n",
      "\n",
      "\n",
      "Testing loss: 6.063839602696219, acc: 0.0017221097368746996\n",
      "\n",
      "\n",
      "Testing loss: 5.955323530856598, acc: 0.0017706198850646615\n",
      "\n",
      "\n",
      "Testing loss: 5.883285442004028, acc: 0.0017584923189133406\n",
      "\n",
      "\n",
      "Testing loss: 5.830361452505958, acc: 0.0017706198850646615\n",
      "\n",
      "\n",
      "Testing loss: 5.793323190744533, acc: 0.0017342371866106987\n",
      "\n",
      "\n",
      "Testing loss: 5.765119042460099, acc: 0.0017948749009519815\n",
      "\n",
      "\n",
      "Testing loss: 5.744207977848133, acc: 0.0017221097368746996\n",
      "\n",
      "\n",
      "Testing loss: 5.72784064433304, acc: 0.0017706198850646615\n",
      "\n",
      "\n",
      "Testing loss: 5.714797524998655, acc: 0.0016978546045720577\n",
      "\n",
      "\n",
      "Testing loss: 5.704937796514817, acc: 0.0017584923189133406\n",
      "\n",
      "\n",
      "Testing loss: 5.695199210131089, acc: 0.0016978546045720577\n",
      "\n",
      "\n",
      "Testing loss: 5.688927980369517, acc: 0.0017706198850646615\n",
      "\n",
      "\n",
      "Testing loss: 5.68175701382757, acc: 0.0017099821707233787\n",
      "\n",
      "WARNING:tensorflow:From /home/david/.local/lib/python3.7/site-packages/tensorflow_core/python/ops/resource_variable_ops.py:1786: calling BaseResourceVariable.__init__ (from tensorflow.python.ops.resource_variable_ops) with constraint is deprecated and will be removed in a future version.\n",
      "Instructions for updating:\n",
      "If using Keras pass *_constraint arguments to layers.\n",
      "INFO:tensorflow:Assets written to: NN_Embed_Model/assets\n"
     ]
    }
   ],
   "source": [
    "X_test, model, history = NN_Model(df = user_rev_biz\n",
    "                                 , n_factors = 5\n",
    "                                 , ep = 21)"
   ]
  },
  {
   "cell_type": "code",
   "execution_count": 128,
   "metadata": {},
   "outputs": [
    {
     "data": {
      "image/png": "[encoded data removed]",
      "text/plain": [
       "<Figure size 864x504 with 2 Axes>"
      ]
     },
     "metadata": {
      "needs_background": "light"
     },
     "output_type": "display_data"
    }
   ],
   "source": [
    "fig, ax = plt.subplots(1, 2, figsize=(12,7), tight_layout=True)\n",
    "ax[0].plot(history.history['loss'])\n",
    "ax[0].set_xlabel('Epochs')\n",
    "ax[0].set_ylabel('Training Error')\n",
    "ax[0].set_title('MSE')\n",
    "    \n",
    "ax[1].plot(history.history['accuracy'])\n",
    "ax[1].set_xlabel('Epochs')\n",
    "ax[1].set_ylabel('Accuracy')\n",
    "ax[1].set_title('Accuracy');"
   ]
  },
  {
   "cell_type": "code",
   "execution_count": 134,
   "metadata": {},
   "outputs": [
    {
     "data": {
      "text/html": [
       "<div>\n",
       "<style scoped>\n",
       "    .dataframe tbody tr th:only-of-type {\n",
       "        vertical-align: middle;\n",
       "    }\n",
       "\n",
       "    .dataframe tbody tr th {\n",
       "        vertical-align: top;\n",
       "    }\n",
       "\n",
       "    .dataframe thead th {\n",
       "        text-align: right;\n",
       "    }\n",
       "</style>\n",
       "<table border=\"1\" class=\"dataframe\">\n",
       "  <thead>\n",
       "    <tr style=\"text-align: right;\">\n",
       "      <th></th>\n",
       "      <th>user_name</th>\n",
       "      <th>biz_name</th>\n",
       "      <th>average_stars</th>\n",
       "      <th>Prediction</th>\n",
       "    </tr>\n",
       "  </thead>\n",
       "  <tbody>\n",
       "    <tr>\n",
       "      <th>1600473</th>\n",
       "      <td>Mirco</td>\n",
       "      <td>Merci French Cafe &amp; Patisserie</td>\n",
       "      <td>4.81</td>\n",
       "      <td>4.744405</td>\n",
       "    </tr>\n",
       "    <tr>\n",
       "      <th>773319</th>\n",
       "      <td>Scott</td>\n",
       "      <td>McCormick-Stillman Railroad Park</td>\n",
       "      <td>3.62</td>\n",
       "      <td>3.585842</td>\n",
       "    </tr>\n",
       "    <tr>\n",
       "      <th>2675092</th>\n",
       "      <td>Ashley</td>\n",
       "      <td>Zoes Kitchen</td>\n",
       "      <td>4.11</td>\n",
       "      <td>4.332685</td>\n",
       "    </tr>\n",
       "    <tr>\n",
       "      <th>3141992</th>\n",
       "      <td>Dawn</td>\n",
       "      <td>Scottsdale Nails</td>\n",
       "      <td>4.70</td>\n",
       "      <td>4.473654</td>\n",
       "    </tr>\n",
       "    <tr>\n",
       "      <th>2063207</th>\n",
       "      <td>Shaila</td>\n",
       "      <td>Saints &amp; Scissors Salon</td>\n",
       "      <td>4.71</td>\n",
       "      <td>0.156180</td>\n",
       "    </tr>\n",
       "    <tr>\n",
       "      <th>3693030</th>\n",
       "      <td>Shaya</td>\n",
       "      <td>Persian Room</td>\n",
       "      <td>4.06</td>\n",
       "      <td>3.987998</td>\n",
       "    </tr>\n",
       "    <tr>\n",
       "      <th>6037906</th>\n",
       "      <td>Marnie</td>\n",
       "      <td>Sir Grout Phoenix</td>\n",
       "      <td>3.75</td>\n",
       "      <td>-0.129827</td>\n",
       "    </tr>\n",
       "    <tr>\n",
       "      <th>1878741</th>\n",
       "      <td>Chelsea</td>\n",
       "      <td>Houston's Restaurant</td>\n",
       "      <td>4.25</td>\n",
       "      <td>4.457550</td>\n",
       "    </tr>\n",
       "    <tr>\n",
       "      <th>4351605</th>\n",
       "      <td>Horace</td>\n",
       "      <td>Nekter Juice Bar</td>\n",
       "      <td>4.75</td>\n",
       "      <td>4.916984</td>\n",
       "    </tr>\n",
       "    <tr>\n",
       "      <th>4458509</th>\n",
       "      <td>Stephanie</td>\n",
       "      <td>Blue Adobe Santa Fe Grille</td>\n",
       "      <td>3.75</td>\n",
       "      <td>3.724029</td>\n",
       "    </tr>\n",
       "    <tr>\n",
       "      <th>2641508</th>\n",
       "      <td>RvChick</td>\n",
       "      <td>The Thumb BBQ</td>\n",
       "      <td>3.48</td>\n",
       "      <td>0.229627</td>\n",
       "    </tr>\n",
       "    <tr>\n",
       "      <th>3931782</th>\n",
       "      <td>Alan</td>\n",
       "      <td>Tutti Santi</td>\n",
       "      <td>5.00</td>\n",
       "      <td>-0.325413</td>\n",
       "    </tr>\n",
       "    <tr>\n",
       "      <th>4911170</th>\n",
       "      <td>G</td>\n",
       "      <td>Liberty Station</td>\n",
       "      <td>3.70</td>\n",
       "      <td>3.251327</td>\n",
       "    </tr>\n",
       "    <tr>\n",
       "      <th>1301540</th>\n",
       "      <td>Allie</td>\n",
       "      <td>AZ88</td>\n",
       "      <td>3.71</td>\n",
       "      <td>3.793887</td>\n",
       "    </tr>\n",
       "    <tr>\n",
       "      <th>919</th>\n",
       "      <td>william</td>\n",
       "      <td>Pita Jungle</td>\n",
       "      <td>4.80</td>\n",
       "      <td>4.683564</td>\n",
       "    </tr>\n",
       "  </tbody>\n",
       "</table>\n",
       "</div>"
      ],
      "text/plain": [
       "         user_name                          biz_name  average_stars  \\\n",
       "1600473      Mirco    Merci French Cafe & Patisserie           4.81   \n",
       "773319       Scott  McCormick-Stillman Railroad Park           3.62   \n",
       "2675092     Ashley                      Zoes Kitchen           4.11   \n",
       "3141992       Dawn                  Scottsdale Nails           4.70   \n",
       "2063207     Shaila           Saints & Scissors Salon           4.71   \n",
       "3693030      Shaya                      Persian Room           4.06   \n",
       "6037906     Marnie                 Sir Grout Phoenix           3.75   \n",
       "1878741    Chelsea              Houston's Restaurant           4.25   \n",
       "4351605     Horace                  Nekter Juice Bar           4.75   \n",
       "4458509  Stephanie        Blue Adobe Santa Fe Grille           3.75   \n",
       "2641508    RvChick                     The Thumb BBQ           3.48   \n",
       "3931782       Alan                       Tutti Santi           5.00   \n",
       "4911170          G                   Liberty Station           3.70   \n",
       "1301540      Allie                              AZ88           3.71   \n",
       "919        william                       Pita Jungle           4.80   \n",
       "\n",
       "         Prediction  \n",
       "1600473    4.744405  \n",
       "773319     3.585842  \n",
       "2675092    4.332685  \n",
       "3141992    4.473654  \n",
       "2063207    0.156180  \n",
       "3693030    3.987998  \n",
       "6037906   -0.129827  \n",
       "1878741    4.457550  \n",
       "4351605    4.916984  \n",
       "4458509    3.724029  \n",
       "2641508    0.229627  \n",
       "3931782   -0.325413  \n",
       "4911170    3.251327  \n",
       "1301540    3.793887  \n",
       "919        4.683564  "
      ]
     },
     "execution_count": 134,
     "metadata": {},
     "output_type": "execute_result"
    }
   ],
   "source": [
    "NN_Results_df(mod = model\n",
    "             , xtest = X_test\n",
    "             , n=15)"
   ]
  },
  {
   "cell_type": "code",
   "execution_count": null,
   "metadata": {},
   "outputs": [],
   "source": []
  },
  {
   "cell_type": "code",
   "execution_count": null,
   "metadata": {},
   "outputs": [],
   "source": []
  },
  {
   "cell_type": "markdown",
   "metadata": {},
   "source": [
    "### Using Texts to Model Business to Business Similarity"
   ]
  },
  {
   "cell_type": "code",
   "execution_count": 136,
   "metadata": {},
   "outputs": [
    {
     "data": {
      "text/html": [
       "<div>\n",
       "<style scoped>\n",
       "    .dataframe tbody tr th:only-of-type {\n",
       "        vertical-align: middle;\n",
       "    }\n",
       "\n",
       "    .dataframe tbody tr th {\n",
       "        vertical-align: top;\n",
       "    }\n",
       "\n",
       "    .dataframe thead th {\n",
       "        text-align: right;\n",
       "    }\n",
       "</style>\n",
       "<table border=\"1\" class=\"dataframe\">\n",
       "  <thead>\n",
       "    <tr style=\"text-align: right;\">\n",
       "      <th></th>\n",
       "      <th>name</th>\n",
       "      <th>rating</th>\n",
       "    </tr>\n",
       "  </thead>\n",
       "  <tbody>\n",
       "    <tr>\n",
       "      <th>0</th>\n",
       "      <td>Ferguson Bath, Kitchen &amp; Lighting Gallery</td>\n",
       "      <td>0.516044</td>\n",
       "    </tr>\n",
       "    <tr>\n",
       "      <th>1</th>\n",
       "      <td>Scottsdale Rooter Plumbers</td>\n",
       "      <td>0.423362</td>\n",
       "    </tr>\n",
       "    <tr>\n",
       "      <th>2</th>\n",
       "      <td>Troon North Custom Tailor</td>\n",
       "      <td>0.421407</td>\n",
       "    </tr>\n",
       "    <tr>\n",
       "      <th>3</th>\n",
       "      <td>The Flower Cart</td>\n",
       "      <td>0.419961</td>\n",
       "    </tr>\n",
       "    <tr>\n",
       "      <th>4</th>\n",
       "      <td>Gainey Fabricare Cleaners</td>\n",
       "      <td>0.418511</td>\n",
       "    </tr>\n",
       "  </tbody>\n",
       "</table>\n",
       "</div>"
      ],
      "text/plain": [
       "                                        name    rating\n",
       "0  Ferguson Bath, Kitchen & Lighting Gallery  0.516044\n",
       "1                 Scottsdale Rooter Plumbers  0.423362\n",
       "2                  Troon North Custom Tailor  0.421407\n",
       "3                            The Flower Cart  0.419961\n",
       "4                  Gainey Fabricare Cleaners  0.418511"
      ]
     },
     "execution_count": 136,
     "metadata": {},
     "output_type": "execute_result"
    }
   ],
   "source": [
    "con_bas_biz_rec(df = user_rev_biz, n = 5)"
   ]
  },
  {
   "cell_type": "code",
   "execution_count": null,
   "metadata": {},
   "outputs": [],
   "source": []
  },
  {
   "cell_type": "code",
   "execution_count": null,
   "metadata": {},
   "outputs": [],
   "source": []
  },
  {
   "cell_type": "code",
   "execution_count": null,
   "metadata": {},
   "outputs": [],
   "source": []
  },
  {
   "cell_type": "code",
   "execution_count": null,
   "metadata": {},
   "outputs": [],
   "source": []
  },
  {
   "cell_type": "code",
   "execution_count": null,
   "metadata": {},
   "outputs": [],
   "source": []
  },
  {
   "cell_type": "code",
   "execution_count": null,
   "metadata": {},
   "outputs": [],
   "source": []
  },
  {
   "cell_type": "code",
   "execution_count": null,
   "metadata": {},
   "outputs": [],
   "source": []
  },
  {
   "cell_type": "code",
   "execution_count": null,
   "metadata": {},
   "outputs": [],
   "source": []
  },
  {
   "cell_type": "code",
   "execution_count": null,
   "metadata": {},
   "outputs": [],
   "source": []
  },
  {
   "cell_type": "code",
   "execution_count": null,
   "metadata": {},
   "outputs": [],
   "source": []
  },
  {
   "cell_type": "code",
   "execution_count": null,
   "metadata": {},
   "outputs": [],
   "source": []
  },
  {
   "cell_type": "code",
   "execution_count": null,
   "metadata": {},
   "outputs": [],
   "source": []
  },
  {
   "cell_type": "code",
   "execution_count": null,
   "metadata": {},
   "outputs": [],
   "source": []
  }
 ],
 "metadata": {
  "kernelspec": {
   "display_name": "Python 3",
   "language": "python",
   "name": "python3"
  },
  "language_info": {
   "codemirror_mode": {
    "name": "ipython",
    "version": 3
   },
   "file_extension": ".py",
   "mimetype": "text/x-python",
   "name": "python",
   "nbconvert_exporter": "python",
   "pygments_lexer": "ipython3",
   "version": "3.7.5"
  }
 },
 "nbformat": 4,
 "nbformat_minor": 4
}
