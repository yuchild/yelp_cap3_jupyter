{
 "cells": [
  {
   "cell_type": "code",
   "execution_count": 1,
   "metadata": {},
   "outputs": [],
   "source": [
    "import pandas as pd\n",
    "import numpy as np\n",
    "from sklearn.model_selection import train_test_split\n",
    "import matplotlib.pyplot as plt\n",
    "import cv2\n",
    "\n",
    "import tensorflow as tf\n",
    "from tensorflow.keras.preprocessing import image\n",
    "from scipy.sparse.linalg import svds"
   ]
  },
  {
   "cell_type": "code",
   "execution_count": 2,
   "metadata": {},
   "outputs": [],
   "source": [
    "from src.models import (load_data\n",
    "                        , data_summary\n",
    "                        , combine_tables\n",
    "                        , collab_mat\n",
    "                        , svd_mat\n",
    "                        , top_biz_pred\n",
    "                       )"
   ]
  },
  {
   "cell_type": "code",
   "execution_count": 5,
   "metadata": {},
   "outputs": [],
   "source": [
    "biz_df, rev_df, ckin_df, pho_df, tip_df, user_df = load_data()"
   ]
  },
  {
   "cell_type": "code",
   "execution_count": 6,
   "metadata": {},
   "outputs": [
    {
     "data": {
      "text/html": [
       "<style  type=\"text/css\" >\n",
       "</style><table id=\"T_8c2f8a72_578b_11ea_9c75_b731eb5cd7d9\" ><thead>    <tr>        <th class=\"col_heading level0 col0\" >name</th>        <th class=\"col_heading level0 col1\" >rows</th>        <th class=\"col_heading level0 col2\" >colums</th>    </tr></thead><tbody>\n",
       "                <tr>\n",
       "                                <td id=\"T_8c2f8a72_578b_11ea_9c75_b731eb5cd7d9row0_col0\" class=\"data row0 col0\" >business</td>\n",
       "                        <td id=\"T_8c2f8a72_578b_11ea_9c75_b731eb5cd7d9row0_col1\" class=\"data row0 col1\" >192609</td>\n",
       "                        <td id=\"T_8c2f8a72_578b_11ea_9c75_b731eb5cd7d9row0_col2\" class=\"data row0 col2\" >14</td>\n",
       "            </tr>\n",
       "            <tr>\n",
       "                                <td id=\"T_8c2f8a72_578b_11ea_9c75_b731eb5cd7d9row1_col0\" class=\"data row1 col0\" >review</td>\n",
       "                        <td id=\"T_8c2f8a72_578b_11ea_9c75_b731eb5cd7d9row1_col1\" class=\"data row1 col1\" >6685900</td>\n",
       "                        <td id=\"T_8c2f8a72_578b_11ea_9c75_b731eb5cd7d9row1_col2\" class=\"data row1 col2\" >9</td>\n",
       "            </tr>\n",
       "            <tr>\n",
       "                                <td id=\"T_8c2f8a72_578b_11ea_9c75_b731eb5cd7d9row2_col0\" class=\"data row2 col0\" >checkin</td>\n",
       "                        <td id=\"T_8c2f8a72_578b_11ea_9c75_b731eb5cd7d9row2_col1\" class=\"data row2 col1\" >161950</td>\n",
       "                        <td id=\"T_8c2f8a72_578b_11ea_9c75_b731eb5cd7d9row2_col2\" class=\"data row2 col2\" >2</td>\n",
       "            </tr>\n",
       "            <tr>\n",
       "                                <td id=\"T_8c2f8a72_578b_11ea_9c75_b731eb5cd7d9row3_col0\" class=\"data row3 col0\" >photo</td>\n",
       "                        <td id=\"T_8c2f8a72_578b_11ea_9c75_b731eb5cd7d9row3_col1\" class=\"data row3 col1\" >200000</td>\n",
       "                        <td id=\"T_8c2f8a72_578b_11ea_9c75_b731eb5cd7d9row3_col2\" class=\"data row3 col2\" >4</td>\n",
       "            </tr>\n",
       "            <tr>\n",
       "                                <td id=\"T_8c2f8a72_578b_11ea_9c75_b731eb5cd7d9row4_col0\" class=\"data row4 col0\" >tip</td>\n",
       "                        <td id=\"T_8c2f8a72_578b_11ea_9c75_b731eb5cd7d9row4_col1\" class=\"data row4 col1\" >1223094</td>\n",
       "                        <td id=\"T_8c2f8a72_578b_11ea_9c75_b731eb5cd7d9row4_col2\" class=\"data row4 col2\" >5</td>\n",
       "            </tr>\n",
       "            <tr>\n",
       "                                <td id=\"T_8c2f8a72_578b_11ea_9c75_b731eb5cd7d9row5_col0\" class=\"data row5 col0\" >user</td>\n",
       "                        <td id=\"T_8c2f8a72_578b_11ea_9c75_b731eb5cd7d9row5_col1\" class=\"data row5 col1\" >1637138</td>\n",
       "                        <td id=\"T_8c2f8a72_578b_11ea_9c75_b731eb5cd7d9row5_col2\" class=\"data row5 col2\" >22</td>\n",
       "            </tr>\n",
       "    </tbody></table>"
      ],
      "text/plain": [
       "<pandas.io.formats.style.Styler at 0x7f4477690390>"
      ]
     },
     "execution_count": 6,
     "metadata": {},
     "output_type": "execute_result"
    }
   ],
   "source": [
    "data_summary(biz_df\n",
    "             , rev_df\n",
    "             , ckin_df\n",
    "             , pho_df\n",
    "             , tip_df\n",
    "             , user_df)"
   ]
  },
  {
   "cell_type": "code",
   "execution_count": 7,
   "metadata": {},
   "outputs": [],
   "source": [
    "user_rev_biz = combine_tables(user_df\n",
    "                              , rev_df\n",
    "                              , biz_df)"
   ]
  },
  {
   "cell_type": "code",
   "execution_count": 8,
   "metadata": {},
   "outputs": [
    {
     "data": {
      "text/plain": [
       "Las Vegas     1757375\n",
       "Phoenix        645716\n",
       "Toronto        434349\n",
       "Scottsdale     329826\n",
       "Charlotte      273989\n",
       "Name: city, dtype: int64"
      ]
     },
     "execution_count": 8,
     "metadata": {},
     "output_type": "execute_result"
    }
   ],
   "source": [
    "user_rev_biz.city.value_counts()[0:5]"
   ]
  },
  {
   "cell_type": "code",
   "execution_count": 9,
   "metadata": {},
   "outputs": [],
   "source": [
    "user_biz_collab_mat = collab_mat('Scottsdale'\n",
    "                                 , user_rev_biz)"
   ]
  },
  {
   "cell_type": "code",
   "execution_count": 10,
   "metadata": {},
   "outputs": [
    {
     "data": {
      "text/plain": [
       "(140940, 7081)"
      ]
     },
     "execution_count": 10,
     "metadata": {},
     "output_type": "execute_result"
    }
   ],
   "source": [
    "user_biz_collab_mat.shape"
   ]
  },
  {
   "cell_type": "markdown",
   "metadata": {},
   "source": [
    "### SVD"
   ]
  },
  {
   "cell_type": "code",
   "execution_count": 11,
   "metadata": {},
   "outputs": [],
   "source": [
    "sigma, user_biz_predictions = svd_mat(user_biz_collab_mat, k=40)"
   ]
  },
  {
   "cell_type": "markdown",
   "metadata": {},
   "source": [
    "### Precictions"
   ]
  },
  {
   "cell_type": "code",
   "execution_count": 12,
   "metadata": {},
   "outputs": [
    {
     "data": {
      "text/plain": [
       "('Kristin',\n",
       " ['True Food Kitchen',\n",
       "  'Cafe Monarch',\n",
       "  'The Herb Box',\n",
       "  'Sweet Republic',\n",
       "  'Talking Stick Resort'])"
      ]
     },
     "execution_count": 12,
     "metadata": {},
     "output_type": "execute_result"
    }
   ],
   "source": [
    "top_biz_pred('--2HUmLkcNHZp0xw6AMBPg'\n",
    "             , df_all = user_rev_biz\n",
    "             , df_mat = user_biz_collab_mat\n",
    "             , df_pred = user_biz_predictions\n",
    "             , n=5)"
   ]
  },
  {
   "cell_type": "code",
   "execution_count": 13,
   "metadata": {},
   "outputs": [
    {
     "data": {
      "text/plain": [
       "3360      Butters Pancakes & Café\n",
       "312378                 Wildflower\n",
       "600627               Flower Child\n",
       "624904               Viet Kitchen\n",
       "744479                 Wildflower\n",
       "Name: biz_name, dtype: object"
      ]
     },
     "execution_count": 13,
     "metadata": {},
     "output_type": "execute_result"
    }
   ],
   "source": [
    "user_rev_biz['biz_name'].loc[user_rev_biz.user_id == '--2HUmLkcNHZp0xw6AMBPg'][0:5]"
   ]
  },
  {
   "cell_type": "markdown",
   "metadata": {},
   "source": [
    "### Validation"
   ]
  },
  {
   "cell_type": "code",
   "execution_count": 47,
   "metadata": {},
   "outputs": [],
   "source": [
    "from surprise import (SVD\n",
    "                      , SVDpp\n",
    "                      , SlopeOne\n",
    "                      , NMF\n",
    "                      , NormalPredictor\n",
    "                      , KNNBaseline\n",
    "                      , KNNBasic\n",
    "                      , KNNWithMeans\n",
    "                      , KNNWithZScore\n",
    "                      , BaselineOnly\n",
    "                      , CoClustering)\n",
    "from surprise import NormalPredictor\n",
    "from surprise import Dataset\n",
    "from surprise import Reader\n",
    "from surprise.model_selection import cross_validate, train_test_split\n",
    "from surprise import accuracy"
   ]
  },
  {
   "cell_type": "code",
   "execution_count": 17,
   "metadata": {},
   "outputs": [],
   "source": [
    "data = user_rev_biz[['user_id'\n",
    "                    , 'business_id'\n",
    "                    , 'average_stars']].loc[user_rev_biz.city == 'Scottsdale']\n"
   ]
  },
  {
   "cell_type": "code",
   "execution_count": 40,
   "metadata": {},
   "outputs": [
    {
     "data": {
      "text/plain": [
       "(329826, 3)"
      ]
     },
     "execution_count": 40,
     "metadata": {},
     "output_type": "execute_result"
    }
   ],
   "source": [
    "data.shape"
   ]
  },
  {
   "cell_type": "code",
   "execution_count": 37,
   "metadata": {},
   "outputs": [
    {
     "data": {
      "text/plain": [
       "140940"
      ]
     },
     "execution_count": 37,
     "metadata": {},
     "output_type": "execute_result"
    }
   ],
   "source": [
    "len(data.user_id.unique())"
   ]
  },
  {
   "cell_type": "code",
   "execution_count": 38,
   "metadata": {},
   "outputs": [
    {
     "data": {
      "text/plain": [
       "7081"
      ]
     },
     "execution_count": 38,
     "metadata": {},
     "output_type": "execute_result"
    }
   ],
   "source": [
    "len(data.business_id.unique())"
   ]
  },
  {
   "cell_type": "code",
   "execution_count": 41,
   "metadata": {},
   "outputs": [],
   "source": [
    "reader = Reader()\n",
    "data = Dataset.load_from_df(data, reader)"
   ]
  },
  {
   "cell_type": "code",
   "execution_count": 43,
   "metadata": {},
   "outputs": [],
   "source": [
    "trainset, testset = train_test_split(data, test_size = 0.25)"
   ]
  },
  {
   "cell_type": "code",
   "execution_count": 44,
   "metadata": {},
   "outputs": [
    {
     "data": {
      "text/plain": [
       "<surprise.prediction_algorithms.matrix_factorization.SVD at 0x7f4476f5e750>"
      ]
     },
     "execution_count": 44,
     "metadata": {},
     "output_type": "execute_result"
    }
   ],
   "source": [
    "algo = SVD()\n",
    "algo.fit(trainset)"
   ]
  },
  {
   "cell_type": "code",
   "execution_count": 45,
   "metadata": {},
   "outputs": [],
   "source": [
    "predictions = algo.test(testset)"
   ]
  },
  {
   "cell_type": "code",
   "execution_count": 48,
   "metadata": {},
   "outputs": [
    {
     "name": "stdout",
     "output_type": "stream",
     "text": [
      "RMSE: 0.7033\n"
     ]
    },
    {
     "data": {
      "text/plain": [
       "0.7033168968886507"
      ]
     },
     "execution_count": 48,
     "metadata": {},
     "output_type": "execute_result"
    }
   ],
   "source": [
    "accuracy.rmse(predictions)"
   ]
  },
  {
   "cell_type": "code",
   "execution_count": 50,
   "metadata": {},
   "outputs": [
    {
     "data": {
      "text/plain": [
       "{'test_rmse': array([0.69714995, 0.69688364, 0.7011446 , 0.70340271, 0.70042614]),\n",
       " 'test_mae': array([0.48845975, 0.48699912, 0.49104552, 0.49082408, 0.4913452 ]),\n",
       " 'fit_time': (12.882615327835083,\n",
       "  12.572933673858643,\n",
       "  12.632320165634155,\n",
       "  14.210466384887695,\n",
       "  13.12132453918457),\n",
       " 'test_time': (0.3999161720275879,\n",
       "  0.4119558334350586,\n",
       "  0.479907751083374,\n",
       "  0.4399549961090088,\n",
       "  0.4253082275390625)}"
      ]
     },
     "execution_count": 50,
     "metadata": {},
     "output_type": "execute_result"
    }
   ],
   "source": [
    "svd_results = cross_validate(SVD(), data, cv = 5)"
   ]
  },
  {
   "cell_type": "code",
   "execution_count": 54,
   "metadata": {},
   "outputs": [
    {
     "data": {
      "text/plain": [
       "array([0.48601805, 0.48564681, 0.49160375, 0.49477537, 0.49059678])"
      ]
     },
     "execution_count": 54,
     "metadata": {},
     "output_type": "execute_result"
    }
   ],
   "source": [
    "svd_results['test_rmse'] ** 2"
   ]
  },
  {
   "cell_type": "code",
   "execution_count": null,
   "metadata": {},
   "outputs": [],
   "source": [
    "NMF_results = cross_validate(NMF(), data, cv = 5)"
   ]
  },
  {
   "cell_type": "code",
   "execution_count": null,
   "metadata": {},
   "outputs": [],
   "source": [
    "NMF_results['test_rmse'] ** 2"
   ]
  },
  {
   "cell_type": "code",
   "execution_count": 56,
   "metadata": {},
   "outputs": [
    {
     "name": "stdout",
     "output_type": "stream",
     "text": [
      "Evaluating RMSE of algorithm SVD on 3 split(s).\n",
      "\n",
      "                  Fold 1  Fold 2  Fold 3  Mean    Std     \n",
      "RMSE (testset)    0.7101  0.7091  0.7089  0.7094  0.0005  \n",
      "Fit time          10.35   10.55   11.35   10.75   0.43    \n",
      "Test time         1.25    1.27    1.23    1.25    0.02    \n",
      "Evaluating RMSE of algorithm NMF on 3 split(s).\n",
      "\n",
      "                  Fold 1  Fold 2  Fold 3  Mean    Std     \n",
      "RMSE (testset)    0.6611  0.6554  0.6598  0.6588  0.0024  \n",
      "Fit time          18.59   18.64   18.76   18.66   0.07    \n",
      "Test time         0.66    0.59    0.65    0.63    0.03    \n",
      "Evaluating RMSE of algorithm NormalPredictor on 3 split(s).\n",
      "\n",
      "                  Fold 1  Fold 2  Fold 3  Mean    Std     \n",
      "RMSE (testset)    1.1027  1.1025  1.1039  1.1030  0.0006  \n",
      "Fit time          0.37    0.52    0.52    0.47    0.07    \n",
      "Test time         0.69    0.72    0.72    0.71    0.01    \n"
     ]
    },
    {
     "data": {
      "text/html": [
       "<div>\n",
       "<style scoped>\n",
       "    .dataframe tbody tr th:only-of-type {\n",
       "        vertical-align: middle;\n",
       "    }\n",
       "\n",
       "    .dataframe tbody tr th {\n",
       "        vertical-align: top;\n",
       "    }\n",
       "\n",
       "    .dataframe thead th {\n",
       "        text-align: right;\n",
       "    }\n",
       "</style>\n",
       "<table border=\"1\" class=\"dataframe\">\n",
       "  <thead>\n",
       "    <tr style=\"text-align: right;\">\n",
       "      <th></th>\n",
       "      <th>test_rmse</th>\n",
       "      <th>fit_time</th>\n",
       "      <th>test_time</th>\n",
       "    </tr>\n",
       "    <tr>\n",
       "      <th>Algorithm</th>\n",
       "      <th></th>\n",
       "      <th></th>\n",
       "      <th></th>\n",
       "    </tr>\n",
       "  </thead>\n",
       "  <tbody>\n",
       "    <tr>\n",
       "      <th>NMF</th>\n",
       "      <td>0.658756</td>\n",
       "      <td>18.662019</td>\n",
       "      <td>0.633255</td>\n",
       "    </tr>\n",
       "    <tr>\n",
       "      <th>SVD</th>\n",
       "      <td>0.709367</td>\n",
       "      <td>10.751169</td>\n",
       "      <td>1.250202</td>\n",
       "    </tr>\n",
       "    <tr>\n",
       "      <th>NormalPredictor</th>\n",
       "      <td>1.103032</td>\n",
       "      <td>0.470730</td>\n",
       "      <td>0.710494</td>\n",
       "    </tr>\n",
       "  </tbody>\n",
       "</table>\n",
       "</div>"
      ],
      "text/plain": [
       "                 test_rmse   fit_time  test_time\n",
       "Algorithm                                       \n",
       "NMF               0.658756  18.662019   0.633255\n",
       "SVD               0.709367  10.751169   1.250202\n",
       "NormalPredictor   1.103032   0.470730   0.710494"
      ]
     },
     "execution_count": 56,
     "metadata": {},
     "output_type": "execute_result"
    }
   ],
   "source": [
    "\n",
    "benchmark = []\n",
    "# Iterate over all algorithms\n",
    "for algorithm in [SVD()\n",
    "                  , NMF()\n",
    "                  , NormalPredictor()\n",
    "                 ]:\n",
    "    # Perform cross validation\n",
    "    results = cross_validate(algorithm\n",
    "                             , data\n",
    "                             , measures=['RMSE']\n",
    "                             , cv=3\n",
    "                             , verbose=True)\n",
    "    \n",
    "    # Get results & append algorithm name\n",
    "    tmp = pd.DataFrame.from_dict(results).mean(axis=0)\n",
    "    tmp = tmp.append(pd.Series([str(algorithm).split(' ')[0].split('.')[-1]], index=['Algorithm']))\n",
    "    benchmark.append(tmp)\n",
    "    \n",
    "pd.DataFrame(benchmark).set_index('Algorithm').sort_values('test_rmse')"
   ]
  },
  {
   "cell_type": "code",
   "execution_count": null,
   "metadata": {},
   "outputs": [],
   "source": []
  }
 ],
 "metadata": {
  "kernelspec": {
   "display_name": "Python 3",
   "language": "python",
   "name": "python3"
  },
  "language_info": {
   "codemirror_mode": {
    "name": "ipython",
    "version": 3
   },
   "file_extension": ".py",
   "mimetype": "text/x-python",
   "name": "python",
   "nbconvert_exporter": "python",
   "pygments_lexer": "ipython3",
   "version": "3.7.5"
  }
 },
 "nbformat": 4,
 "nbformat_minor": 4
}
